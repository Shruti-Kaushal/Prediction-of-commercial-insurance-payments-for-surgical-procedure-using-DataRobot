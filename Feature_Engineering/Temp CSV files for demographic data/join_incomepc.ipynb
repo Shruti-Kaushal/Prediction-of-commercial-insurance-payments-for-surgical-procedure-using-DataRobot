{
 "cells": [
  {
   "cell_type": "code",
   "execution_count": 1,
   "id": "095adfdd",
   "metadata": {},
   "outputs": [],
   "source": [
    "import pandas as pd"
   ]
  },
  {
   "cell_type": "code",
   "execution_count": 5,
   "id": "677212c2",
   "metadata": {},
   "outputs": [],
   "source": [
    "left_df = pd.read_csv('temp_original.csv')\n",
    "right_df = pd.read_csv('temp_imcomepc.csv')"
   ]
  },
  {
   "cell_type": "code",
   "execution_count": 6,
   "id": "628a15f1",
   "metadata": {},
   "outputs": [
    {
     "data": {
      "text/html": [
       "<div>\n",
       "<style scoped>\n",
       "    .dataframe tbody tr th:only-of-type {\n",
       "        vertical-align: middle;\n",
       "    }\n",
       "\n",
       "    .dataframe tbody tr th {\n",
       "        vertical-align: top;\n",
       "    }\n",
       "\n",
       "    .dataframe thead th {\n",
       "        text-align: right;\n",
       "    }\n",
       "</style>\n",
       "<table border=\"1\" class=\"dataframe\">\n",
       "  <thead>\n",
       "    <tr style=\"text-align: right;\">\n",
       "      <th></th>\n",
       "      <th>MSA</th>\n",
       "      <th>year</th>\n",
       "    </tr>\n",
       "  </thead>\n",
       "  <tbody>\n",
       "    <tr>\n",
       "      <th>0</th>\n",
       "      <td>Akron, OH</td>\n",
       "      <td>2018</td>\n",
       "    </tr>\n",
       "    <tr>\n",
       "      <th>1</th>\n",
       "      <td>Albany-Schenectady-Troy, NY</td>\n",
       "      <td>2018</td>\n",
       "    </tr>\n",
       "    <tr>\n",
       "      <th>2</th>\n",
       "      <td>Allentown-Bethlehem-Easton, PA-NJ</td>\n",
       "      <td>2018</td>\n",
       "    </tr>\n",
       "    <tr>\n",
       "      <th>3</th>\n",
       "      <td>Altoona, PA</td>\n",
       "      <td>2018</td>\n",
       "    </tr>\n",
       "    <tr>\n",
       "      <th>4</th>\n",
       "      <td>Anaheim-Santa Ana-Irvine, CA</td>\n",
       "      <td>2018</td>\n",
       "    </tr>\n",
       "  </tbody>\n",
       "</table>\n",
       "</div>"
      ],
      "text/plain": [
       "                                 MSA  year\n",
       "0                          Akron, OH  2018\n",
       "1        Albany-Schenectady-Troy, NY  2018\n",
       "2  Allentown-Bethlehem-Easton, PA-NJ  2018\n",
       "3                        Altoona, PA  2018\n",
       "4       Anaheim-Santa Ana-Irvine, CA  2018"
      ]
     },
     "execution_count": 6,
     "metadata": {},
     "output_type": "execute_result"
    }
   ],
   "source": [
    "left_df.head()"
   ]
  },
  {
   "cell_type": "code",
   "execution_count": 8,
   "id": "c1faffc2",
   "metadata": {},
   "outputs": [
    {
     "data": {
      "text/html": [
       "<div>\n",
       "<style scoped>\n",
       "    .dataframe tbody tr th:only-of-type {\n",
       "        vertical-align: middle;\n",
       "    }\n",
       "\n",
       "    .dataframe tbody tr th {\n",
       "        vertical-align: top;\n",
       "    }\n",
       "\n",
       "    .dataframe thead th {\n",
       "        text-align: right;\n",
       "    }\n",
       "</style>\n",
       "<table border=\"1\" class=\"dataframe\">\n",
       "  <thead>\n",
       "    <tr style=\"text-align: right;\">\n",
       "      <th></th>\n",
       "      <th>MSA</th>\n",
       "      <th>year</th>\n",
       "      <th>income_pc</th>\n",
       "    </tr>\n",
       "  </thead>\n",
       "  <tbody>\n",
       "    <tr>\n",
       "      <th>0</th>\n",
       "      <td>Abilene, TX</td>\n",
       "      <td>2018</td>\n",
       "      <td>44039</td>\n",
       "    </tr>\n",
       "    <tr>\n",
       "      <th>1</th>\n",
       "      <td>Akron, OH</td>\n",
       "      <td>2018</td>\n",
       "      <td>49770</td>\n",
       "    </tr>\n",
       "    <tr>\n",
       "      <th>2</th>\n",
       "      <td>Albany, GA</td>\n",
       "      <td>2018</td>\n",
       "      <td>36889</td>\n",
       "    </tr>\n",
       "    <tr>\n",
       "      <th>3</th>\n",
       "      <td>Albany-Lebanon, OR</td>\n",
       "      <td>2018</td>\n",
       "      <td>42811</td>\n",
       "    </tr>\n",
       "    <tr>\n",
       "      <th>4</th>\n",
       "      <td>Albany-Schenectady-Troy, NY</td>\n",
       "      <td>2018</td>\n",
       "      <td>57743</td>\n",
       "    </tr>\n",
       "  </tbody>\n",
       "</table>\n",
       "</div>"
      ],
      "text/plain": [
       "                           MSA  year  income_pc\n",
       "0                  Abilene, TX  2018      44039\n",
       "1                    Akron, OH  2018      49770\n",
       "2                   Albany, GA  2018      36889\n",
       "3           Albany-Lebanon, OR  2018      42811\n",
       "4  Albany-Schenectady-Troy, NY  2018      57743"
      ]
     },
     "execution_count": 8,
     "metadata": {},
     "output_type": "execute_result"
    }
   ],
   "source": [
    "right_df.head()"
   ]
  },
  {
   "cell_type": "code",
   "execution_count": 10,
   "id": "03d2d3d4",
   "metadata": {},
   "outputs": [],
   "source": [
    "new_df = pd.merge(left_df, right_df,  how='left', on=['MSA','year'])"
   ]
  },
  {
   "cell_type": "code",
   "execution_count": 14,
   "id": "a6473b17",
   "metadata": {},
   "outputs": [
    {
     "data": {
      "text/html": [
       "<div>\n",
       "<style scoped>\n",
       "    .dataframe tbody tr th:only-of-type {\n",
       "        vertical-align: middle;\n",
       "    }\n",
       "\n",
       "    .dataframe tbody tr th {\n",
       "        vertical-align: top;\n",
       "    }\n",
       "\n",
       "    .dataframe thead th {\n",
       "        text-align: right;\n",
       "    }\n",
       "</style>\n",
       "<table border=\"1\" class=\"dataframe\">\n",
       "  <thead>\n",
       "    <tr style=\"text-align: right;\">\n",
       "      <th></th>\n",
       "      <th>MSA</th>\n",
       "      <th>year</th>\n",
       "      <th>income_pc</th>\n",
       "    </tr>\n",
       "  </thead>\n",
       "  <tbody>\n",
       "    <tr>\n",
       "      <th>0</th>\n",
       "      <td>Akron, OH</td>\n",
       "      <td>2018</td>\n",
       "      <td>49770.0</td>\n",
       "    </tr>\n",
       "    <tr>\n",
       "      <th>1</th>\n",
       "      <td>Albany-Schenectady-Troy, NY</td>\n",
       "      <td>2018</td>\n",
       "      <td>57743.0</td>\n",
       "    </tr>\n",
       "    <tr>\n",
       "      <th>2</th>\n",
       "      <td>Allentown-Bethlehem-Easton, PA-NJ</td>\n",
       "      <td>2018</td>\n",
       "      <td>53518.0</td>\n",
       "    </tr>\n",
       "    <tr>\n",
       "      <th>3</th>\n",
       "      <td>Altoona, PA</td>\n",
       "      <td>2018</td>\n",
       "      <td>46236.0</td>\n",
       "    </tr>\n",
       "    <tr>\n",
       "      <th>4</th>\n",
       "      <td>Anaheim-Santa Ana-Irvine, CA</td>\n",
       "      <td>2018</td>\n",
       "      <td>NaN</td>\n",
       "    </tr>\n",
       "    <tr>\n",
       "      <th>5</th>\n",
       "      <td>Ann Arbor, MI</td>\n",
       "      <td>2018</td>\n",
       "      <td>58667.0</td>\n",
       "    </tr>\n",
       "    <tr>\n",
       "      <th>6</th>\n",
       "      <td>Anniston-Oxford, AL</td>\n",
       "      <td>2018</td>\n",
       "      <td>36482.0</td>\n",
       "    </tr>\n",
       "    <tr>\n",
       "      <th>7</th>\n",
       "      <td>Appleton, WI</td>\n",
       "      <td>2018</td>\n",
       "      <td>50951.0</td>\n",
       "    </tr>\n",
       "    <tr>\n",
       "      <th>8</th>\n",
       "      <td>Asheville, NC</td>\n",
       "      <td>2018</td>\n",
       "      <td>45540.0</td>\n",
       "    </tr>\n",
       "    <tr>\n",
       "      <th>9</th>\n",
       "      <td>Atlanta-Sandy Springs-Alpharetta, GA</td>\n",
       "      <td>2018</td>\n",
       "      <td>53354.0</td>\n",
       "    </tr>\n",
       "    <tr>\n",
       "      <th>10</th>\n",
       "      <td>Atlantic City-Hammonton, NJ</td>\n",
       "      <td>2018</td>\n",
       "      <td>48110.0</td>\n",
       "    </tr>\n",
       "    <tr>\n",
       "      <th>11</th>\n",
       "      <td>Auburn-Opelika, AL</td>\n",
       "      <td>2018</td>\n",
       "      <td>38184.0</td>\n",
       "    </tr>\n",
       "    <tr>\n",
       "      <th>12</th>\n",
       "      <td>Augusta-Richmond County, GA-SC</td>\n",
       "      <td>2018</td>\n",
       "      <td>41738.0</td>\n",
       "    </tr>\n",
       "    <tr>\n",
       "      <th>13</th>\n",
       "      <td>Austin-Round Rock-Georgetown, TX</td>\n",
       "      <td>2018</td>\n",
       "      <td>60764.0</td>\n",
       "    </tr>\n",
       "    <tr>\n",
       "      <th>14</th>\n",
       "      <td>Bakersfield, CA</td>\n",
       "      <td>2018</td>\n",
       "      <td>38079.0</td>\n",
       "    </tr>\n",
       "  </tbody>\n",
       "</table>\n",
       "</div>"
      ],
      "text/plain": [
       "                                     MSA  year  income_pc\n",
       "0                              Akron, OH  2018    49770.0\n",
       "1            Albany-Schenectady-Troy, NY  2018    57743.0\n",
       "2      Allentown-Bethlehem-Easton, PA-NJ  2018    53518.0\n",
       "3                            Altoona, PA  2018    46236.0\n",
       "4           Anaheim-Santa Ana-Irvine, CA  2018        NaN\n",
       "5                          Ann Arbor, MI  2018    58667.0\n",
       "6                    Anniston-Oxford, AL  2018    36482.0\n",
       "7                           Appleton, WI  2018    50951.0\n",
       "8                          Asheville, NC  2018    45540.0\n",
       "9   Atlanta-Sandy Springs-Alpharetta, GA  2018    53354.0\n",
       "10           Atlantic City-Hammonton, NJ  2018    48110.0\n",
       "11                    Auburn-Opelika, AL  2018    38184.0\n",
       "12        Augusta-Richmond County, GA-SC  2018    41738.0\n",
       "13      Austin-Round Rock-Georgetown, TX  2018    60764.0\n",
       "14                       Bakersfield, CA  2018    38079.0"
      ]
     },
     "execution_count": 14,
     "metadata": {},
     "output_type": "execute_result"
    }
   ],
   "source": [
    "new_df.head(15)"
   ]
  },
  {
   "cell_type": "code",
   "execution_count": 12,
   "id": "fca9a8fb",
   "metadata": {},
   "outputs": [
    {
     "data": {
      "text/plain": [
       "46247"
      ]
     },
     "execution_count": 12,
     "metadata": {},
     "output_type": "execute_result"
    }
   ],
   "source": [
    "new_df.shape[0]"
   ]
  },
  {
   "cell_type": "code",
   "execution_count": 13,
   "id": "9c24ef1f",
   "metadata": {},
   "outputs": [
    {
     "data": {
      "text/plain": [
       "46247"
      ]
     },
     "execution_count": 13,
     "metadata": {},
     "output_type": "execute_result"
    }
   ],
   "source": [
    "left_df.shape[0]"
   ]
  },
  {
   "cell_type": "code",
   "execution_count": 15,
   "id": "ca245a2c",
   "metadata": {},
   "outputs": [],
   "source": [
    "new_df.to_csv('left_joined_income_pc.csv')  "
   ]
  },
  {
   "cell_type": "code",
   "execution_count": null,
   "id": "0ed776ba",
   "metadata": {},
   "outputs": [],
   "source": []
  }
 ],
 "metadata": {
  "kernelspec": {
   "display_name": "Python 3",
   "language": "python",
   "name": "python3"
  },
  "language_info": {
   "codemirror_mode": {
    "name": "ipython",
    "version": 3
   },
   "file_extension": ".py",
   "mimetype": "text/x-python",
   "name": "python",
   "nbconvert_exporter": "python",
   "pygments_lexer": "ipython3",
   "version": "3.9.6"
  }
 },
 "nbformat": 4,
 "nbformat_minor": 5
}
