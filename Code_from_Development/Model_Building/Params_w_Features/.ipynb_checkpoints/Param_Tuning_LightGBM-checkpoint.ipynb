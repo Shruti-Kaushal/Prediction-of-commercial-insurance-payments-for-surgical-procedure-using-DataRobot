{
 "cells": [
  {
   "cell_type": "markdown",
   "id": "81eb7c6e",
   "metadata": {},
   "source": [
    "# Baseline Model - Python Version"
   ]
  },
  {
   "cell_type": "markdown",
   "id": "13a4fdd5",
   "metadata": {},
   "source": [
    "## Library Imports"
   ]
  },
  {
   "cell_type": "code",
   "execution_count": 1,
   "id": "c707dca7",
   "metadata": {},
   "outputs": [],
   "source": [
    "# Necessary code to import our helper functions\n",
    "import sys\n",
    "sys.path.append(\"../..\")"
   ]
  },
  {
   "cell_type": "code",
   "execution_count": 2,
   "id": "331fb943",
   "metadata": {},
   "outputs": [],
   "source": [
    "# Library imports\n",
    "import numpy as np\n",
    "import pandas as pd\n",
    "from sklearn.model_selection import train_test_split, GridSearchCV\n",
    "from sklearn.ensemble import RandomForestRegressor\n",
    "from matplotlib import pyplot as plt\n",
    "import lightgbm as lgb\n",
    "from sklearn.metrics import mean_absolute_percentage_error\n",
    "from Common_Functions import add_unique_identifier, data_cleaning, hospital_data_agg"
   ]
  },
  {
   "cell_type": "code",
   "execution_count": 3,
   "id": "bf7b90a8",
   "metadata": {},
   "outputs": [],
   "source": [
    "def data_split(data, count_col_name = 'priv_count', count_thresh = 50):\n",
    "    \"\"\"\n",
    "    This function splits the data into model set and future set. Model set is the data used to train, evaluate\n",
    "    test the model. Future data is what the model needs to predict on.\n",
    "    \n",
    "    Args:\n",
    "    data (pandas: DataFrame) - a pandas data frame with at least 3 columns - \"priv_pay_mean\", \"priv_pay_median\" and count_col_name\n",
    "    count_col_name (str) - name of the column which is thresholded to make the split\n",
    "    count_thresh (int) - threshold value used to split data on count_col_name\n",
    "    \n",
    "    Returns:\n",
    "    model_data (pandas: DataFrame) - data frame with observations that will be used to train and test model\n",
    "    future_data (pandas: DataFrame) - data frame with all observations on which model will make predictions\n",
    "    \"\"\"\n",
    "    data = data[(data['priv_pay_median'] > 0) | (data['priv_pay_median'].isnull())]\n",
    "    future_data = data[(data[count_col_name] <= count_thresh) | (data[count_col_name].isnull())]\n",
    "    model_data = data[data[count_col_name] > count_thresh]\n",
    "    model_data = model_data[model_data.priv_pay_median.notnull()]\n",
    "    return model_data, future_data"
   ]
  },
  {
   "cell_type": "markdown",
   "id": "cd097cf7",
   "metadata": {},
   "source": [
    "## Data Import"
   ]
  },
  {
   "cell_type": "code",
   "execution_count": 4,
   "id": "7628bfd6",
   "metadata": {},
   "outputs": [],
   "source": [
    "data = pd.read_csv(\"../../Feature Matrix/processed_data.csv\")"
   ]
  },
  {
   "cell_type": "markdown",
   "id": "a3358bfa",
   "metadata": {},
   "source": [
    "## Model Parameters"
   ]
  },
  {
   "cell_type": "code",
   "execution_count": 5,
   "id": "673d8c34",
   "metadata": {},
   "outputs": [],
   "source": [
    "COUNT_THRESH = 34\n",
    "RDM_SEED = 123\n",
    "TRAIN_TEST_PROPORTION = 0.8"
   ]
  },
  {
   "cell_type": "markdown",
   "id": "89e1826a",
   "metadata": {},
   "source": [
    "## Data Transformation"
   ]
  },
  {
   "cell_type": "markdown",
   "id": "50f101f0",
   "metadata": {},
   "source": [
    "### One-Hot Categorical Encoding and Dropping NAs"
   ]
  },
  {
   "cell_type": "code",
   "execution_count": 6,
   "id": "0bc3e73a",
   "metadata": {},
   "outputs": [],
   "source": [
    "data.drop(columns = ['CBSA_NAME', 'Unnamed: 0'], inplace=True)\n",
    "data = data_cleaning(data)"
   ]
  },
  {
   "cell_type": "markdown",
   "id": "fcab4752",
   "metadata": {},
   "source": [
    "### Data Split"
   ]
  },
  {
   "cell_type": "code",
   "execution_count": 7,
   "id": "f6073646",
   "metadata": {},
   "outputs": [],
   "source": [
    "working_set, predict_set = data_split(data, count_thresh = COUNT_THRESH)"
   ]
  },
  {
   "cell_type": "code",
   "execution_count": 8,
   "id": "ecd1a7e6",
   "metadata": {},
   "outputs": [],
   "source": [
    "model_data = working_set\n",
    "predict_data = predict_set"
   ]
  },
  {
   "cell_type": "code",
   "execution_count": 9,
   "id": "d567dde7",
   "metadata": {},
   "outputs": [
    {
     "data": {
      "text/html": [
       "<div>\n",
       "<style scoped>\n",
       "    .dataframe tbody tr th:only-of-type {\n",
       "        vertical-align: middle;\n",
       "    }\n",
       "\n",
       "    .dataframe tbody tr th {\n",
       "        vertical-align: top;\n",
       "    }\n",
       "\n",
       "    .dataframe thead th {\n",
       "        text-align: right;\n",
       "    }\n",
       "</style>\n",
       "<table border=\"1\" class=\"dataframe\">\n",
       "  <thead>\n",
       "    <tr style=\"text-align: right;\">\n",
       "      <th></th>\n",
       "      <th>year</th>\n",
       "      <th>site</th>\n",
       "      <th>priv_count</th>\n",
       "      <th>priv_pay_median</th>\n",
       "      <th>mcare_los</th>\n",
       "      <th>mcare_pay_median</th>\n",
       "      <th>lon</th>\n",
       "      <th>lat</th>\n",
       "      <th>Hospitals</th>\n",
       "      <th>PctTeaching</th>\n",
       "      <th>...</th>\n",
       "      <th>group_revision_tha</th>\n",
       "      <th>group_revision_tka</th>\n",
       "      <th>group_robotic_assisted_surgery</th>\n",
       "      <th>group_rtc_slap_bank</th>\n",
       "      <th>group_septoplasty</th>\n",
       "      <th>group_tha</th>\n",
       "      <th>group_thoracic</th>\n",
       "      <th>group_tka</th>\n",
       "      <th>group_tpa</th>\n",
       "      <th>group_tsa</th>\n",
       "    </tr>\n",
       "  </thead>\n",
       "  <tbody>\n",
       "    <tr>\n",
       "      <th>40</th>\n",
       "      <td>2018</td>\n",
       "      <td>1</td>\n",
       "      <td>63</td>\n",
       "      <td>24289.900</td>\n",
       "      <td>2.549296</td>\n",
       "      <td>8794.190</td>\n",
       "      <td>-96.920913</td>\n",
       "      <td>32.707875</td>\n",
       "      <td>114.0</td>\n",
       "      <td>0.105263</td>\n",
       "      <td>...</td>\n",
       "      <td>0</td>\n",
       "      <td>0</td>\n",
       "      <td>0</td>\n",
       "      <td>0</td>\n",
       "      <td>0</td>\n",
       "      <td>0</td>\n",
       "      <td>0</td>\n",
       "      <td>0</td>\n",
       "      <td>0</td>\n",
       "      <td>0</td>\n",
       "    </tr>\n",
       "    <tr>\n",
       "      <th>70</th>\n",
       "      <td>2018</td>\n",
       "      <td>1</td>\n",
       "      <td>51</td>\n",
       "      <td>21408.000</td>\n",
       "      <td>3.543210</td>\n",
       "      <td>10395.160</td>\n",
       "      <td>-95.622552</td>\n",
       "      <td>29.598443</td>\n",
       "      <td>181.0</td>\n",
       "      <td>0.088398</td>\n",
       "      <td>...</td>\n",
       "      <td>0</td>\n",
       "      <td>0</td>\n",
       "      <td>0</td>\n",
       "      <td>0</td>\n",
       "      <td>0</td>\n",
       "      <td>0</td>\n",
       "      <td>0</td>\n",
       "      <td>0</td>\n",
       "      <td>0</td>\n",
       "      <td>0</td>\n",
       "    </tr>\n",
       "    <tr>\n",
       "      <th>112</th>\n",
       "      <td>2018</td>\n",
       "      <td>1</td>\n",
       "      <td>64</td>\n",
       "      <td>29757.100</td>\n",
       "      <td>3.918699</td>\n",
       "      <td>14174.100</td>\n",
       "      <td>-74.005954</td>\n",
       "      <td>40.712776</td>\n",
       "      <td>143.0</td>\n",
       "      <td>0.552448</td>\n",
       "      <td>...</td>\n",
       "      <td>0</td>\n",
       "      <td>0</td>\n",
       "      <td>0</td>\n",
       "      <td>0</td>\n",
       "      <td>0</td>\n",
       "      <td>0</td>\n",
       "      <td>0</td>\n",
       "      <td>0</td>\n",
       "      <td>0</td>\n",
       "      <td>0</td>\n",
       "    </tr>\n",
       "    <tr>\n",
       "      <th>219</th>\n",
       "      <td>2019</td>\n",
       "      <td>1</td>\n",
       "      <td>66</td>\n",
       "      <td>25240.905</td>\n",
       "      <td>3.241935</td>\n",
       "      <td>10144.445</td>\n",
       "      <td>-96.920913</td>\n",
       "      <td>32.707875</td>\n",
       "      <td>114.0</td>\n",
       "      <td>0.105263</td>\n",
       "      <td>...</td>\n",
       "      <td>0</td>\n",
       "      <td>0</td>\n",
       "      <td>0</td>\n",
       "      <td>0</td>\n",
       "      <td>0</td>\n",
       "      <td>0</td>\n",
       "      <td>0</td>\n",
       "      <td>0</td>\n",
       "      <td>0</td>\n",
       "      <td>0</td>\n",
       "    </tr>\n",
       "    <tr>\n",
       "      <th>275</th>\n",
       "      <td>2019</td>\n",
       "      <td>1</td>\n",
       "      <td>45</td>\n",
       "      <td>34963.900</td>\n",
       "      <td>3.262295</td>\n",
       "      <td>14008.190</td>\n",
       "      <td>-74.005954</td>\n",
       "      <td>40.712776</td>\n",
       "      <td>143.0</td>\n",
       "      <td>0.552448</td>\n",
       "      <td>...</td>\n",
       "      <td>0</td>\n",
       "      <td>0</td>\n",
       "      <td>0</td>\n",
       "      <td>0</td>\n",
       "      <td>0</td>\n",
       "      <td>0</td>\n",
       "      <td>0</td>\n",
       "      <td>0</td>\n",
       "      <td>0</td>\n",
       "      <td>0</td>\n",
       "    </tr>\n",
       "    <tr>\n",
       "      <th>...</th>\n",
       "      <td>...</td>\n",
       "      <td>...</td>\n",
       "      <td>...</td>\n",
       "      <td>...</td>\n",
       "      <td>...</td>\n",
       "      <td>...</td>\n",
       "      <td>...</td>\n",
       "      <td>...</td>\n",
       "      <td>...</td>\n",
       "      <td>...</td>\n",
       "      <td>...</td>\n",
       "      <td>...</td>\n",
       "      <td>...</td>\n",
       "      <td>...</td>\n",
       "      <td>...</td>\n",
       "      <td>...</td>\n",
       "      <td>...</td>\n",
       "      <td>...</td>\n",
       "      <td>...</td>\n",
       "      <td>...</td>\n",
       "      <td>...</td>\n",
       "    </tr>\n",
       "    <tr>\n",
       "      <th>41969</th>\n",
       "      <td>2019</td>\n",
       "      <td>0</td>\n",
       "      <td>55</td>\n",
       "      <td>8614.250</td>\n",
       "      <td>0.000000</td>\n",
       "      <td>6291.420</td>\n",
       "      <td>-83.079090</td>\n",
       "      <td>42.810540</td>\n",
       "      <td>30.0</td>\n",
       "      <td>0.433333</td>\n",
       "      <td>...</td>\n",
       "      <td>0</td>\n",
       "      <td>0</td>\n",
       "      <td>0</td>\n",
       "      <td>0</td>\n",
       "      <td>0</td>\n",
       "      <td>0</td>\n",
       "      <td>0</td>\n",
       "      <td>0</td>\n",
       "      <td>0</td>\n",
       "      <td>0</td>\n",
       "    </tr>\n",
       "    <tr>\n",
       "      <th>41993</th>\n",
       "      <td>2020</td>\n",
       "      <td>0</td>\n",
       "      <td>62</td>\n",
       "      <td>11590.770</td>\n",
       "      <td>0.000000</td>\n",
       "      <td>6628.030</td>\n",
       "      <td>-84.294090</td>\n",
       "      <td>34.075380</td>\n",
       "      <td>80.0</td>\n",
       "      <td>0.162500</td>\n",
       "      <td>...</td>\n",
       "      <td>0</td>\n",
       "      <td>0</td>\n",
       "      <td>0</td>\n",
       "      <td>0</td>\n",
       "      <td>0</td>\n",
       "      <td>0</td>\n",
       "      <td>0</td>\n",
       "      <td>0</td>\n",
       "      <td>0</td>\n",
       "      <td>0</td>\n",
       "    </tr>\n",
       "    <tr>\n",
       "      <th>42065</th>\n",
       "      <td>2020</td>\n",
       "      <td>0</td>\n",
       "      <td>39</td>\n",
       "      <td>20492.920</td>\n",
       "      <td>0.000000</td>\n",
       "      <td>7015.710</td>\n",
       "      <td>-95.622550</td>\n",
       "      <td>29.598440</td>\n",
       "      <td>181.0</td>\n",
       "      <td>0.088398</td>\n",
       "      <td>...</td>\n",
       "      <td>0</td>\n",
       "      <td>0</td>\n",
       "      <td>0</td>\n",
       "      <td>0</td>\n",
       "      <td>0</td>\n",
       "      <td>0</td>\n",
       "      <td>0</td>\n",
       "      <td>0</td>\n",
       "      <td>0</td>\n",
       "      <td>0</td>\n",
       "    </tr>\n",
       "    <tr>\n",
       "      <th>42110</th>\n",
       "      <td>2020</td>\n",
       "      <td>0</td>\n",
       "      <td>44</td>\n",
       "      <td>13777.100</td>\n",
       "      <td>0.000000</td>\n",
       "      <td>8517.130</td>\n",
       "      <td>-74.005950</td>\n",
       "      <td>40.712780</td>\n",
       "      <td>143.0</td>\n",
       "      <td>0.552448</td>\n",
       "      <td>...</td>\n",
       "      <td>0</td>\n",
       "      <td>0</td>\n",
       "      <td>0</td>\n",
       "      <td>0</td>\n",
       "      <td>0</td>\n",
       "      <td>0</td>\n",
       "      <td>0</td>\n",
       "      <td>0</td>\n",
       "      <td>0</td>\n",
       "      <td>0</td>\n",
       "    </tr>\n",
       "    <tr>\n",
       "      <th>42189</th>\n",
       "      <td>2020</td>\n",
       "      <td>0</td>\n",
       "      <td>48</td>\n",
       "      <td>8874.140</td>\n",
       "      <td>0.000000</td>\n",
       "      <td>7132.820</td>\n",
       "      <td>-83.079090</td>\n",
       "      <td>42.810540</td>\n",
       "      <td>30.0</td>\n",
       "      <td>0.433333</td>\n",
       "      <td>...</td>\n",
       "      <td>0</td>\n",
       "      <td>0</td>\n",
       "      <td>0</td>\n",
       "      <td>0</td>\n",
       "      <td>0</td>\n",
       "      <td>0</td>\n",
       "      <td>0</td>\n",
       "      <td>0</td>\n",
       "      <td>0</td>\n",
       "      <td>0</td>\n",
       "    </tr>\n",
       "  </tbody>\n",
       "</table>\n",
       "<p>3509 rows × 82 columns</p>\n",
       "</div>"
      ],
      "text/plain": [
       "       year  site  priv_count  priv_pay_median  mcare_los  mcare_pay_median  \\\n",
       "40     2018     1          63        24289.900   2.549296          8794.190   \n",
       "70     2018     1          51        21408.000   3.543210         10395.160   \n",
       "112    2018     1          64        29757.100   3.918699         14174.100   \n",
       "219    2019     1          66        25240.905   3.241935         10144.445   \n",
       "275    2019     1          45        34963.900   3.262295         14008.190   \n",
       "...     ...   ...         ...              ...        ...               ...   \n",
       "41969  2019     0          55         8614.250   0.000000          6291.420   \n",
       "41993  2020     0          62        11590.770   0.000000          6628.030   \n",
       "42065  2020     0          39        20492.920   0.000000          7015.710   \n",
       "42110  2020     0          44        13777.100   0.000000          8517.130   \n",
       "42189  2020     0          48         8874.140   0.000000          7132.820   \n",
       "\n",
       "             lon        lat  Hospitals  PctTeaching  ...  group_revision_tha  \\\n",
       "40    -96.920913  32.707875      114.0     0.105263  ...                   0   \n",
       "70    -95.622552  29.598443      181.0     0.088398  ...                   0   \n",
       "112   -74.005954  40.712776      143.0     0.552448  ...                   0   \n",
       "219   -96.920913  32.707875      114.0     0.105263  ...                   0   \n",
       "275   -74.005954  40.712776      143.0     0.552448  ...                   0   \n",
       "...          ...        ...        ...          ...  ...                 ...   \n",
       "41969 -83.079090  42.810540       30.0     0.433333  ...                   0   \n",
       "41993 -84.294090  34.075380       80.0     0.162500  ...                   0   \n",
       "42065 -95.622550  29.598440      181.0     0.088398  ...                   0   \n",
       "42110 -74.005950  40.712780      143.0     0.552448  ...                   0   \n",
       "42189 -83.079090  42.810540       30.0     0.433333  ...                   0   \n",
       "\n",
       "       group_revision_tka  group_robotic_assisted_surgery  \\\n",
       "40                      0                               0   \n",
       "70                      0                               0   \n",
       "112                     0                               0   \n",
       "219                     0                               0   \n",
       "275                     0                               0   \n",
       "...                   ...                             ...   \n",
       "41969                   0                               0   \n",
       "41993                   0                               0   \n",
       "42065                   0                               0   \n",
       "42110                   0                               0   \n",
       "42189                   0                               0   \n",
       "\n",
       "       group_rtc_slap_bank  group_septoplasty  group_tha  group_thoracic  \\\n",
       "40                       0                  0          0               0   \n",
       "70                       0                  0          0               0   \n",
       "112                      0                  0          0               0   \n",
       "219                      0                  0          0               0   \n",
       "275                      0                  0          0               0   \n",
       "...                    ...                ...        ...             ...   \n",
       "41969                    0                  0          0               0   \n",
       "41993                    0                  0          0               0   \n",
       "42065                    0                  0          0               0   \n",
       "42110                    0                  0          0               0   \n",
       "42189                    0                  0          0               0   \n",
       "\n",
       "       group_tka  group_tpa  group_tsa  \n",
       "40             0          0          0  \n",
       "70             0          0          0  \n",
       "112            0          0          0  \n",
       "219            0          0          0  \n",
       "275            0          0          0  \n",
       "...          ...        ...        ...  \n",
       "41969          0          0          0  \n",
       "41993          0          0          0  \n",
       "42065          0          0          0  \n",
       "42110          0          0          0  \n",
       "42189          0          0          0  \n",
       "\n",
       "[3509 rows x 82 columns]"
      ]
     },
     "metadata": {},
     "output_type": "display_data"
    }
   ],
   "source": [
    "display(model_data)"
   ]
  },
  {
   "cell_type": "markdown",
   "id": "207d1fcf",
   "metadata": {},
   "source": [
    "### Train / Test Split"
   ]
  },
  {
   "cell_type": "code",
   "execution_count": 10,
   "id": "c0a0878e",
   "metadata": {},
   "outputs": [],
   "source": [
    "X_input = model_data.drop(columns=[\"priv_pay_median\"])\n",
    "y_input = model_data[\"priv_pay_median\"]\n",
    "\n",
    "X_train, X_test, y_train, y_test = train_test_split(X_input,\n",
    "                                                    y_input,\n",
    "                                                    train_size = TRAIN_TEST_PROPORTION,\n",
    "                                                    random_state = RDM_SEED)\n"
   ]
  },
  {
   "cell_type": "markdown",
   "id": "bd65af76",
   "metadata": {},
   "source": [
    "### Monotonicity Contraint - Inpatient must be most expensive, all else equal"
   ]
  },
  {
   "cell_type": "code",
   "execution_count": 11,
   "id": "5342bc15",
   "metadata": {},
   "outputs": [
    {
     "data": {
      "text/plain": [
       "array([0, 1, 0, 0, 0, 0, 0, 0, 0, 0, 0, 0, 0, 0, 0, 0, 0, 0, 0, 0, 0, 0,\n",
       "       0, 0, 0, 0, 0, 0, 0, 0, 0, 0, 0, 0, 0, 0, 0, 0, 0, 0, 0, 0, 0, 0,\n",
       "       0, 0, 0, 0, 0, 0, 0, 0, 0, 0, 0, 0, 0, 0, 0, 0, 0, 0, 0, 0, 0, 0,\n",
       "       0, 0, 0, 0, 0, 0, 0, 0, 0, 0, 0, 0, 0, 0, 0])"
      ]
     },
     "metadata": {},
     "output_type": "display_data"
    }
   ],
   "source": [
    "mono = np.array((pd.Series(X_train.columns) == \"site\").astype(int))\n",
    "display(mono)"
   ]
  },
  {
   "cell_type": "code",
   "execution_count": 12,
   "id": "dd8119fc",
   "metadata": {},
   "outputs": [],
   "source": [
    "param_grid = {\n",
    "#     'boosting_type':['gbdt','dart'],\n",
    "#     'n_estimators':[150,200,250,300,350],\n",
    "#     'num_leaves':[50,60,70,80,90],\n",
    "#     'learning_rate': [0.05,0.1,0.2,0.3,0.4],\n",
    "#     'min_child_weight':[0,1],\n",
    "#     'reg_lambda':[0,0.25,0.5,0.75,1]\n",
    "}"
   ]
  },
  {
   "cell_type": "code",
   "execution_count": 13,
   "id": "bc071eb3",
   "metadata": {},
   "outputs": [],
   "source": [
    "lgb_param_tuning_model = lgb.LGBMRegressor(boosting_type = 'dart',\n",
    "                                           monotone_constraints = mono,\n",
    "                                           learning_rate = 0.3,\n",
    "                                           n_estimators=300,\n",
    "                                           num_leaves = 80,\n",
    "                                           reg_lambda = 0.25,\n",
    "                                           min_child_weight=0\n",
    "                                         )"
   ]
  },
  {
   "cell_type": "code",
   "execution_count": 14,
   "id": "5b109002",
   "metadata": {},
   "outputs": [
    {
     "data": {
      "text/html": [
       "<style>#sk-container-id-1 {color: black;background-color: white;}#sk-container-id-1 pre{padding: 0;}#sk-container-id-1 div.sk-toggleable {background-color: white;}#sk-container-id-1 label.sk-toggleable__label {cursor: pointer;display: block;width: 100%;margin-bottom: 0;padding: 0.3em;box-sizing: border-box;text-align: center;}#sk-container-id-1 label.sk-toggleable__label-arrow:before {content: \"▸\";float: left;margin-right: 0.25em;color: #696969;}#sk-container-id-1 label.sk-toggleable__label-arrow:hover:before {color: black;}#sk-container-id-1 div.sk-estimator:hover label.sk-toggleable__label-arrow:before {color: black;}#sk-container-id-1 div.sk-toggleable__content {max-height: 0;max-width: 0;overflow: hidden;text-align: left;background-color: #f0f8ff;}#sk-container-id-1 div.sk-toggleable__content pre {margin: 0.2em;color: black;border-radius: 0.25em;background-color: #f0f8ff;}#sk-container-id-1 input.sk-toggleable__control:checked~div.sk-toggleable__content {max-height: 200px;max-width: 100%;overflow: auto;}#sk-container-id-1 input.sk-toggleable__control:checked~label.sk-toggleable__label-arrow:before {content: \"▾\";}#sk-container-id-1 div.sk-estimator input.sk-toggleable__control:checked~label.sk-toggleable__label {background-color: #d4ebff;}#sk-container-id-1 div.sk-label input.sk-toggleable__control:checked~label.sk-toggleable__label {background-color: #d4ebff;}#sk-container-id-1 input.sk-hidden--visually {border: 0;clip: rect(1px 1px 1px 1px);clip: rect(1px, 1px, 1px, 1px);height: 1px;margin: -1px;overflow: hidden;padding: 0;position: absolute;width: 1px;}#sk-container-id-1 div.sk-estimator {font-family: monospace;background-color: #f0f8ff;border: 1px dotted black;border-radius: 0.25em;box-sizing: border-box;margin-bottom: 0.5em;}#sk-container-id-1 div.sk-estimator:hover {background-color: #d4ebff;}#sk-container-id-1 div.sk-parallel-item::after {content: \"\";width: 100%;border-bottom: 1px solid gray;flex-grow: 1;}#sk-container-id-1 div.sk-label:hover label.sk-toggleable__label {background-color: #d4ebff;}#sk-container-id-1 div.sk-serial::before {content: \"\";position: absolute;border-left: 1px solid gray;box-sizing: border-box;top: 0;bottom: 0;left: 50%;z-index: 0;}#sk-container-id-1 div.sk-serial {display: flex;flex-direction: column;align-items: center;background-color: white;padding-right: 0.2em;padding-left: 0.2em;position: relative;}#sk-container-id-1 div.sk-item {position: relative;z-index: 1;}#sk-container-id-1 div.sk-parallel {display: flex;align-items: stretch;justify-content: center;background-color: white;position: relative;}#sk-container-id-1 div.sk-item::before, #sk-container-id-1 div.sk-parallel-item::before {content: \"\";position: absolute;border-left: 1px solid gray;box-sizing: border-box;top: 0;bottom: 0;left: 50%;z-index: -1;}#sk-container-id-1 div.sk-parallel-item {display: flex;flex-direction: column;z-index: 1;position: relative;background-color: white;}#sk-container-id-1 div.sk-parallel-item:first-child::after {align-self: flex-end;width: 50%;}#sk-container-id-1 div.sk-parallel-item:last-child::after {align-self: flex-start;width: 50%;}#sk-container-id-1 div.sk-parallel-item:only-child::after {width: 0;}#sk-container-id-1 div.sk-dashed-wrapped {border: 1px dashed gray;margin: 0 0.4em 0.5em 0.4em;box-sizing: border-box;padding-bottom: 0.4em;background-color: white;}#sk-container-id-1 div.sk-label label {font-family: monospace;font-weight: bold;display: inline-block;line-height: 1.2em;}#sk-container-id-1 div.sk-label-container {text-align: center;}#sk-container-id-1 div.sk-container {/* jupyter's `normalize.less` sets `[hidden] { display: none; }` but bootstrap.min.css set `[hidden] { display: none !important; }` so we also need the `!important` here to be able to override the default hidden behavior on the sphinx rendered scikit-learn.org. See: https://github.com/scikit-learn/scikit-learn/issues/21755 */display: inline-block !important;position: relative;}#sk-container-id-1 div.sk-text-repr-fallback {display: none;}</style><div id=\"sk-container-id-1\" class=\"sk-top-container\"><div class=\"sk-text-repr-fallback\"><pre>GridSearchCV(estimator=LGBMRegressor(boosting_type=&#x27;dart&#x27;, learning_rate=0.3,\n",
       "                                     min_child_weight=0,\n",
       "                                     monotone_constraints=array([0, 1, 0, 0, 0, 0, 0, 0, 0, 0, 0, 0, 0, 0, 0, 0, 0, 0, 0, 0, 0, 0,\n",
       "       0, 0, 0, 0, 0, 0, 0, 0, 0, 0, 0, 0, 0, 0, 0, 0, 0, 0, 0, 0, 0, 0,\n",
       "       0, 0, 0, 0, 0, 0, 0, 0, 0, 0, 0, 0, 0, 0, 0, 0, 0, 0, 0, 0, 0, 0,\n",
       "       0, 0, 0, 0, 0, 0, 0, 0, 0, 0, 0, 0, 0, 0, 0]),\n",
       "                                     n_estimators=300, num_leaves=80,\n",
       "                                     reg_lambda=0.25),\n",
       "             param_grid={}, scoring=&#x27;neg_mean_absolute_percentage_error&#x27;)</pre><b>In a Jupyter environment, please rerun this cell to show the HTML representation or trust the notebook. <br />On GitHub, the HTML representation is unable to render, please try loading this page with nbviewer.org.</b></div><div class=\"sk-container\" hidden><div class=\"sk-item sk-dashed-wrapped\"><div class=\"sk-label-container\"><div class=\"sk-label sk-toggleable\"><input class=\"sk-toggleable__control sk-hidden--visually\" id=\"sk-estimator-id-1\" type=\"checkbox\" ><label for=\"sk-estimator-id-1\" class=\"sk-toggleable__label sk-toggleable__label-arrow\">GridSearchCV</label><div class=\"sk-toggleable__content\"><pre>GridSearchCV(estimator=LGBMRegressor(boosting_type=&#x27;dart&#x27;, learning_rate=0.3,\n",
       "                                     min_child_weight=0,\n",
       "                                     monotone_constraints=array([0, 1, 0, 0, 0, 0, 0, 0, 0, 0, 0, 0, 0, 0, 0, 0, 0, 0, 0, 0, 0, 0,\n",
       "       0, 0, 0, 0, 0, 0, 0, 0, 0, 0, 0, 0, 0, 0, 0, 0, 0, 0, 0, 0, 0, 0,\n",
       "       0, 0, 0, 0, 0, 0, 0, 0, 0, 0, 0, 0, 0, 0, 0, 0, 0, 0, 0, 0, 0, 0,\n",
       "       0, 0, 0, 0, 0, 0, 0, 0, 0, 0, 0, 0, 0, 0, 0]),\n",
       "                                     n_estimators=300, num_leaves=80,\n",
       "                                     reg_lambda=0.25),\n",
       "             param_grid={}, scoring=&#x27;neg_mean_absolute_percentage_error&#x27;)</pre></div></div></div><div class=\"sk-parallel\"><div class=\"sk-parallel-item\"><div class=\"sk-item\"><div class=\"sk-label-container\"><div class=\"sk-label sk-toggleable\"><input class=\"sk-toggleable__control sk-hidden--visually\" id=\"sk-estimator-id-2\" type=\"checkbox\" ><label for=\"sk-estimator-id-2\" class=\"sk-toggleable__label sk-toggleable__label-arrow\">estimator: LGBMRegressor</label><div class=\"sk-toggleable__content\"><pre>LGBMRegressor(boosting_type=&#x27;dart&#x27;, learning_rate=0.3, min_child_weight=0,\n",
       "              monotone_constraints=array([0, 1, 0, 0, 0, 0, 0, 0, 0, 0, 0, 0, 0, 0, 0, 0, 0, 0, 0, 0, 0, 0,\n",
       "       0, 0, 0, 0, 0, 0, 0, 0, 0, 0, 0, 0, 0, 0, 0, 0, 0, 0, 0, 0, 0, 0,\n",
       "       0, 0, 0, 0, 0, 0, 0, 0, 0, 0, 0, 0, 0, 0, 0, 0, 0, 0, 0, 0, 0, 0,\n",
       "       0, 0, 0, 0, 0, 0, 0, 0, 0, 0, 0, 0, 0, 0, 0]),\n",
       "              n_estimators=300, num_leaves=80, reg_lambda=0.25)</pre></div></div></div><div class=\"sk-serial\"><div class=\"sk-item\"><div class=\"sk-estimator sk-toggleable\"><input class=\"sk-toggleable__control sk-hidden--visually\" id=\"sk-estimator-id-3\" type=\"checkbox\" ><label for=\"sk-estimator-id-3\" class=\"sk-toggleable__label sk-toggleable__label-arrow\">LGBMRegressor</label><div class=\"sk-toggleable__content\"><pre>LGBMRegressor(boosting_type=&#x27;dart&#x27;, learning_rate=0.3, min_child_weight=0,\n",
       "              monotone_constraints=array([0, 1, 0, 0, 0, 0, 0, 0, 0, 0, 0, 0, 0, 0, 0, 0, 0, 0, 0, 0, 0, 0,\n",
       "       0, 0, 0, 0, 0, 0, 0, 0, 0, 0, 0, 0, 0, 0, 0, 0, 0, 0, 0, 0, 0, 0,\n",
       "       0, 0, 0, 0, 0, 0, 0, 0, 0, 0, 0, 0, 0, 0, 0, 0, 0, 0, 0, 0, 0, 0,\n",
       "       0, 0, 0, 0, 0, 0, 0, 0, 0, 0, 0, 0, 0, 0, 0]),\n",
       "              n_estimators=300, num_leaves=80, reg_lambda=0.25)</pre></div></div></div></div></div></div></div></div></div></div>"
      ],
      "text/plain": [
       "GridSearchCV(estimator=LGBMRegressor(boosting_type='dart', learning_rate=0.3,\n",
       "                                     min_child_weight=0,\n",
       "                                     monotone_constraints=array([0, 1, 0, 0, 0, 0, 0, 0, 0, 0, 0, 0, 0, 0, 0, 0, 0, 0, 0, 0, 0, 0,\n",
       "       0, 0, 0, 0, 0, 0, 0, 0, 0, 0, 0, 0, 0, 0, 0, 0, 0, 0, 0, 0, 0, 0,\n",
       "       0, 0, 0, 0, 0, 0, 0, 0, 0, 0, 0, 0, 0, 0, 0, 0, 0, 0, 0, 0, 0, 0,\n",
       "       0, 0, 0, 0, 0, 0, 0, 0, 0, 0, 0, 0, 0, 0, 0]),\n",
       "                                     n_estimators=300, num_leaves=80,\n",
       "                                     reg_lambda=0.25),\n",
       "             param_grid={}, scoring='neg_mean_absolute_percentage_error')"
      ]
     },
     "execution_count": 14,
     "metadata": {},
     "output_type": "execute_result"
    }
   ],
   "source": [
    "lgb_mono_model = GridSearchCV(lgb_param_tuning_model, param_grid, scoring='neg_mean_absolute_percentage_error')\n",
    "\n",
    "lgb_mono_model.fit(X_train, y_train)"
   ]
  },
  {
   "cell_type": "code",
   "execution_count": 15,
   "id": "541ea128",
   "metadata": {},
   "outputs": [
    {
     "name": "stdout",
     "output_type": "stream",
     "text": [
      "{'mean_fit_time': array([2.14331427]), 'std_fit_time': array([0.05178248]), 'mean_score_time': array([0.00804105]), 'std_score_time': array([0.00311311]), 'params': [{}], 'split0_test_score': array([-0.23667582]), 'split1_test_score': array([-0.29733476]), 'split2_test_score': array([-0.14418104]), 'split3_test_score': array([-0.15896178]), 'split4_test_score': array([-0.14812559]), 'mean_test_score': array([-0.1970558]), 'std_test_score': array([0.06044283]), 'rank_test_score': array([1])}\n",
      "{}\n"
     ]
    }
   ],
   "source": [
    "print(lgb_mono_model.cv_results_)\n",
    "print(lgb_mono_model.best_params_)"
   ]
  },
  {
   "cell_type": "code",
   "execution_count": 16,
   "id": "f14b3f03",
   "metadata": {},
   "outputs": [],
   "source": [
    "y_train_pred_xgb = lgb_mono_model.predict(X_train)\n",
    "y_test_pred_xgb = lgb_mono_model.predict(X_test)"
   ]
  },
  {
   "cell_type": "code",
   "execution_count": 17,
   "id": "2a802dbc",
   "metadata": {},
   "outputs": [
    {
     "name": "stdout",
     "output_type": "stream",
     "text": [
      "Monotonic LightGBM with Threshold >34 claims for training set:\n",
      "Train MAPE: 0.039428747438055946\n",
      "Test MAPE: 0.1651494397573819\n",
      "\n"
     ]
    }
   ],
   "source": [
    "print(f\"Monotonic LightGBM with Threshold >{COUNT_THRESH} claims for training set:\")\n",
    "print(f\"Train MAPE: {mean_absolute_percentage_error(y_true=y_train, y_pred=y_train_pred_xgb)}\")\n",
    "print(f\"Test MAPE: {mean_absolute_percentage_error(y_true=y_test, y_pred=y_test_pred_xgb)}\\n\")"
   ]
  },
  {
   "cell_type": "code",
   "execution_count": 18,
   "id": "7a5727e1",
   "metadata": {},
   "outputs": [
    {
     "name": "stdout",
     "output_type": "stream",
     "text": [
      "Index(['year', 'site', 'priv_count', 'mcare_los', 'mcare_pay_median', 'lon',\n",
      "       'lat', 'Hospitals', 'PctTeaching', 'PctLargeHospital', 'PctPrivate',\n",
      "       'total_population', 'median_age', 'sex_ratio',\n",
      "       'State_Poverty_Percent_All_Ages', 'State_Median_Household_Income',\n",
      "       'income_pc', 'num_races', 'household_size', 'frac_married',\n",
      "       'frac_school', 'frac_college', 'frac_educated', 'annual_births',\n",
      "       'frac_veteran', 'frac_disability', 'non_citizen', 'employment_rate',\n",
      "       'frac_priv_insurance', 'frac_mcare_insurance', 'frac_no_insurance',\n",
      "       'cluster', 'mcare_count', 'group_ankle_fix', 'group_ant_cerv_fusion',\n",
      "       'group_ant_tls_fusion', 'group_bariatric',\n",
      "       'group_breast reconstruction', 'group_bsp', 'group_bunionectomy',\n",
      "       'group_cardiac ablation', 'group_cardiac ablation_additional_discrete',\n",
      "       'group_cardiac ablation_linear_focal',\n",
      "       'group_cardiac_ablaton_anesthesia', 'group_cardiac_ablaton_ice',\n",
      "       'group_clavicle fixation', 'group_colorect',\n",
      "       'group_femoral shaft fixation', 'group_fess', 'group_hepat',\n",
      "       'group_hernia', 'group_hip_fracture_fixation', 'group_hysterect',\n",
      "       'group_intracranial_thromb', 'group_kidney ablation', 'group_laac',\n",
      "       'group_lap appendectomy', 'group_liver ablation', 'group_lung ablation',\n",
      "       'group_mastectomy', 'group_navigation', 'group_orthovisc_monovisc',\n",
      "       'group_partial shoulder arthroplasty', 'group_pka', 'group_pnn',\n",
      "       'group_post_cerv_fusion', 'group_post_tls_fusion',\n",
      "       'group_prostatectomy', 'group_prox_tibia_fixation',\n",
      "       'group_proximal humerus', 'group_radius/ulna internal fixation',\n",
      "       'group_revision_tha', 'group_revision_tka',\n",
      "       'group_robotic_assisted_surgery', 'group_rtc_slap_bank',\n",
      "       'group_septoplasty', 'group_tha', 'group_thoracic', 'group_tka',\n",
      "       'group_tpa', 'group_tsa'],\n",
      "      dtype='object')\n"
     ]
    }
   ],
   "source": [
    "print(X_train.columns)"
   ]
  },
  {
   "cell_type": "code",
   "execution_count": 19,
   "id": "a920fd5d",
   "metadata": {},
   "outputs": [
    {
     "ename": "ValueError",
     "evalue": "x and y must have same first dimension, but have shapes (13,) and (1,)",
     "output_type": "error",
     "traceback": [
      "\u001b[1;31m---------------------------------------------------------------------------\u001b[0m",
      "\u001b[1;31mValueError\u001b[0m                                Traceback (most recent call last)",
      "Input \u001b[1;32mIn [19]\u001b[0m, in \u001b[0;36m<cell line: 1>\u001b[1;34m()\u001b[0m\n\u001b[1;32m----> 1\u001b[0m \u001b[43mplt\u001b[49m\u001b[38;5;241;43m.\u001b[39;49m\u001b[43mplot\u001b[49m\u001b[43m(\u001b[49m\u001b[43m[\u001b[49m\u001b[38;5;241;43m50\u001b[39;49m\u001b[43m,\u001b[49m\u001b[38;5;241;43m80\u001b[39;49m\u001b[43m,\u001b[49m\u001b[38;5;241;43m90\u001b[39;49m\u001b[43m,\u001b[49m\u001b[38;5;241;43m100\u001b[39;49m\u001b[43m,\u001b[49m\u001b[38;5;241;43m110\u001b[39;49m\u001b[43m,\u001b[49m\u001b[38;5;241;43m120\u001b[39;49m\u001b[43m,\u001b[49m\u001b[38;5;241;43m130\u001b[39;49m\u001b[43m,\u001b[49m\u001b[38;5;241;43m140\u001b[39;49m\u001b[43m,\u001b[49m\u001b[38;5;241;43m150\u001b[39;49m\u001b[43m,\u001b[49m\u001b[38;5;241;43m175\u001b[39;49m\u001b[43m,\u001b[49m\u001b[38;5;241;43m200\u001b[39;49m\u001b[43m,\u001b[49m\u001b[38;5;241;43m225\u001b[39;49m\u001b[43m,\u001b[49m\u001b[38;5;241;43m250\u001b[39;49m\u001b[43m]\u001b[49m\u001b[43m,\u001b[49m\u001b[43m \u001b[49m\u001b[38;5;241;43m-\u001b[39;49m\u001b[43mlgb_mono_model\u001b[49m\u001b[38;5;241;43m.\u001b[39;49m\u001b[43mcv_results_\u001b[49m\u001b[43m[\u001b[49m\u001b[38;5;124;43m'\u001b[39;49m\u001b[38;5;124;43mmean_test_score\u001b[39;49m\u001b[38;5;124;43m'\u001b[39;49m\u001b[43m]\u001b[49m\u001b[38;5;241;43m*\u001b[39;49m\u001b[38;5;241;43m100\u001b[39;49m\u001b[43m)\u001b[49m\n",
      "File \u001b[1;32m~\\anaconda3\\lib\\site-packages\\matplotlib\\pyplot.py:2769\u001b[0m, in \u001b[0;36mplot\u001b[1;34m(scalex, scaley, data, *args, **kwargs)\u001b[0m\n\u001b[0;32m   2767\u001b[0m \u001b[38;5;129m@_copy_docstring_and_deprecators\u001b[39m(Axes\u001b[38;5;241m.\u001b[39mplot)\n\u001b[0;32m   2768\u001b[0m \u001b[38;5;28;01mdef\u001b[39;00m \u001b[38;5;21mplot\u001b[39m(\u001b[38;5;241m*\u001b[39margs, scalex\u001b[38;5;241m=\u001b[39m\u001b[38;5;28;01mTrue\u001b[39;00m, scaley\u001b[38;5;241m=\u001b[39m\u001b[38;5;28;01mTrue\u001b[39;00m, data\u001b[38;5;241m=\u001b[39m\u001b[38;5;28;01mNone\u001b[39;00m, \u001b[38;5;241m*\u001b[39m\u001b[38;5;241m*\u001b[39mkwargs):\n\u001b[1;32m-> 2769\u001b[0m     \u001b[38;5;28;01mreturn\u001b[39;00m \u001b[43mgca\u001b[49m\u001b[43m(\u001b[49m\u001b[43m)\u001b[49m\u001b[38;5;241;43m.\u001b[39;49m\u001b[43mplot\u001b[49m\u001b[43m(\u001b[49m\n\u001b[0;32m   2770\u001b[0m \u001b[43m        \u001b[49m\u001b[38;5;241;43m*\u001b[39;49m\u001b[43margs\u001b[49m\u001b[43m,\u001b[49m\u001b[43m \u001b[49m\u001b[43mscalex\u001b[49m\u001b[38;5;241;43m=\u001b[39;49m\u001b[43mscalex\u001b[49m\u001b[43m,\u001b[49m\u001b[43m \u001b[49m\u001b[43mscaley\u001b[49m\u001b[38;5;241;43m=\u001b[39;49m\u001b[43mscaley\u001b[49m\u001b[43m,\u001b[49m\n\u001b[0;32m   2771\u001b[0m \u001b[43m        \u001b[49m\u001b[38;5;241;43m*\u001b[39;49m\u001b[38;5;241;43m*\u001b[39;49m\u001b[43m(\u001b[49m\u001b[43m{\u001b[49m\u001b[38;5;124;43m\"\u001b[39;49m\u001b[38;5;124;43mdata\u001b[39;49m\u001b[38;5;124;43m\"\u001b[39;49m\u001b[43m:\u001b[49m\u001b[43m \u001b[49m\u001b[43mdata\u001b[49m\u001b[43m}\u001b[49m\u001b[43m \u001b[49m\u001b[38;5;28;43;01mif\u001b[39;49;00m\u001b[43m \u001b[49m\u001b[43mdata\u001b[49m\u001b[43m \u001b[49m\u001b[38;5;129;43;01mis\u001b[39;49;00m\u001b[43m \u001b[49m\u001b[38;5;129;43;01mnot\u001b[39;49;00m\u001b[43m \u001b[49m\u001b[38;5;28;43;01mNone\u001b[39;49;00m\u001b[43m \u001b[49m\u001b[38;5;28;43;01melse\u001b[39;49;00m\u001b[43m \u001b[49m\u001b[43m{\u001b[49m\u001b[43m}\u001b[49m\u001b[43m)\u001b[49m\u001b[43m,\u001b[49m\u001b[43m \u001b[49m\u001b[38;5;241;43m*\u001b[39;49m\u001b[38;5;241;43m*\u001b[39;49m\u001b[43mkwargs\u001b[49m\u001b[43m)\u001b[49m\n",
      "File \u001b[1;32m~\\anaconda3\\lib\\site-packages\\matplotlib\\axes\\_axes.py:1632\u001b[0m, in \u001b[0;36mAxes.plot\u001b[1;34m(self, scalex, scaley, data, *args, **kwargs)\u001b[0m\n\u001b[0;32m   1390\u001b[0m \u001b[38;5;124;03m\"\"\"\u001b[39;00m\n\u001b[0;32m   1391\u001b[0m \u001b[38;5;124;03mPlot y versus x as lines and/or markers.\u001b[39;00m\n\u001b[0;32m   1392\u001b[0m \n\u001b[1;32m   (...)\u001b[0m\n\u001b[0;32m   1629\u001b[0m \u001b[38;5;124;03m(``'green'``) or hex strings (``'#008000'``).\u001b[39;00m\n\u001b[0;32m   1630\u001b[0m \u001b[38;5;124;03m\"\"\"\u001b[39;00m\n\u001b[0;32m   1631\u001b[0m kwargs \u001b[38;5;241m=\u001b[39m cbook\u001b[38;5;241m.\u001b[39mnormalize_kwargs(kwargs, mlines\u001b[38;5;241m.\u001b[39mLine2D)\n\u001b[1;32m-> 1632\u001b[0m lines \u001b[38;5;241m=\u001b[39m [\u001b[38;5;241m*\u001b[39m\u001b[38;5;28mself\u001b[39m\u001b[38;5;241m.\u001b[39m_get_lines(\u001b[38;5;241m*\u001b[39margs, data\u001b[38;5;241m=\u001b[39mdata, \u001b[38;5;241m*\u001b[39m\u001b[38;5;241m*\u001b[39mkwargs)]\n\u001b[0;32m   1633\u001b[0m \u001b[38;5;28;01mfor\u001b[39;00m line \u001b[38;5;129;01min\u001b[39;00m lines:\n\u001b[0;32m   1634\u001b[0m     \u001b[38;5;28mself\u001b[39m\u001b[38;5;241m.\u001b[39madd_line(line)\n",
      "File \u001b[1;32m~\\anaconda3\\lib\\site-packages\\matplotlib\\axes\\_base.py:312\u001b[0m, in \u001b[0;36m_process_plot_var_args.__call__\u001b[1;34m(self, data, *args, **kwargs)\u001b[0m\n\u001b[0;32m    310\u001b[0m     this \u001b[38;5;241m+\u001b[39m\u001b[38;5;241m=\u001b[39m args[\u001b[38;5;241m0\u001b[39m],\n\u001b[0;32m    311\u001b[0m     args \u001b[38;5;241m=\u001b[39m args[\u001b[38;5;241m1\u001b[39m:]\n\u001b[1;32m--> 312\u001b[0m \u001b[38;5;28;01myield from\u001b[39;00m \u001b[38;5;28;43mself\u001b[39;49m\u001b[38;5;241;43m.\u001b[39;49m\u001b[43m_plot_args\u001b[49m\u001b[43m(\u001b[49m\u001b[43mthis\u001b[49m\u001b[43m,\u001b[49m\u001b[43m \u001b[49m\u001b[43mkwargs\u001b[49m\u001b[43m)\u001b[49m\n",
      "File \u001b[1;32m~\\anaconda3\\lib\\site-packages\\matplotlib\\axes\\_base.py:498\u001b[0m, in \u001b[0;36m_process_plot_var_args._plot_args\u001b[1;34m(self, tup, kwargs, return_kwargs)\u001b[0m\n\u001b[0;32m    495\u001b[0m     \u001b[38;5;28mself\u001b[39m\u001b[38;5;241m.\u001b[39maxes\u001b[38;5;241m.\u001b[39myaxis\u001b[38;5;241m.\u001b[39mupdate_units(y)\n\u001b[0;32m    497\u001b[0m \u001b[38;5;28;01mif\u001b[39;00m x\u001b[38;5;241m.\u001b[39mshape[\u001b[38;5;241m0\u001b[39m] \u001b[38;5;241m!=\u001b[39m y\u001b[38;5;241m.\u001b[39mshape[\u001b[38;5;241m0\u001b[39m]:\n\u001b[1;32m--> 498\u001b[0m     \u001b[38;5;28;01mraise\u001b[39;00m \u001b[38;5;167;01mValueError\u001b[39;00m(\u001b[38;5;124mf\u001b[39m\u001b[38;5;124m\"\u001b[39m\u001b[38;5;124mx and y must have same first dimension, but \u001b[39m\u001b[38;5;124m\"\u001b[39m\n\u001b[0;32m    499\u001b[0m                      \u001b[38;5;124mf\u001b[39m\u001b[38;5;124m\"\u001b[39m\u001b[38;5;124mhave shapes \u001b[39m\u001b[38;5;132;01m{\u001b[39;00mx\u001b[38;5;241m.\u001b[39mshape\u001b[38;5;132;01m}\u001b[39;00m\u001b[38;5;124m and \u001b[39m\u001b[38;5;132;01m{\u001b[39;00my\u001b[38;5;241m.\u001b[39mshape\u001b[38;5;132;01m}\u001b[39;00m\u001b[38;5;124m\"\u001b[39m)\n\u001b[0;32m    500\u001b[0m \u001b[38;5;28;01mif\u001b[39;00m x\u001b[38;5;241m.\u001b[39mndim \u001b[38;5;241m>\u001b[39m \u001b[38;5;241m2\u001b[39m \u001b[38;5;129;01mor\u001b[39;00m y\u001b[38;5;241m.\u001b[39mndim \u001b[38;5;241m>\u001b[39m \u001b[38;5;241m2\u001b[39m:\n\u001b[0;32m    501\u001b[0m     \u001b[38;5;28;01mraise\u001b[39;00m \u001b[38;5;167;01mValueError\u001b[39;00m(\u001b[38;5;124mf\u001b[39m\u001b[38;5;124m\"\u001b[39m\u001b[38;5;124mx and y can be no greater than 2D, but have \u001b[39m\u001b[38;5;124m\"\u001b[39m\n\u001b[0;32m    502\u001b[0m                      \u001b[38;5;124mf\u001b[39m\u001b[38;5;124m\"\u001b[39m\u001b[38;5;124mshapes \u001b[39m\u001b[38;5;132;01m{\u001b[39;00mx\u001b[38;5;241m.\u001b[39mshape\u001b[38;5;132;01m}\u001b[39;00m\u001b[38;5;124m and \u001b[39m\u001b[38;5;132;01m{\u001b[39;00my\u001b[38;5;241m.\u001b[39mshape\u001b[38;5;132;01m}\u001b[39;00m\u001b[38;5;124m\"\u001b[39m)\n",
      "\u001b[1;31mValueError\u001b[0m: x and y must have same first dimension, but have shapes (13,) and (1,)"
     ]
    },
    {
     "data": {
      "image/png": "[encoded data removed]",
      "text/plain": [
       "<Figure size 640x480 with 1 Axes>"
      ]
     },
     "metadata": {},
     "output_type": "display_data"
    }
   ],
   "source": [
    "plt.plot([50,80,90,100,110,120,130,140,150,175,200,225,250], -lgb_mono_model.cv_results_['mean_test_score']*100)"
   ]
  },
  {
   "cell_type": "code",
   "execution_count": null,
   "id": "34998a52",
   "metadata": {},
   "outputs": [],
   "source": []
  }
 ],
 "metadata": {
  "kernelspec": {
   "display_name": "Python 3 (ipykernel)",
   "language": "python",
   "name": "python3"
  },
  "language_info": {
   "codemirror_mode": {
    "name": "ipython",
    "version": 3
   },
   "file_extension": ".py",
   "mimetype": "text/x-python",
   "name": "python",
   "nbconvert_exporter": "python",
   "pygments_lexer": "ipython3",
   "version": "3.8.8"
  }
 },
 "nbformat": 4,
 "nbformat_minor": 5
}
