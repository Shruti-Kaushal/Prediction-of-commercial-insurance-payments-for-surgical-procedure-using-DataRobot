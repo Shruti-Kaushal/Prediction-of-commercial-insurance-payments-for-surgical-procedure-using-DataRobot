{
 "cells": [
  {
   "cell_type": "code",
   "execution_count": 1,
   "id": "1538ee7a",
   "metadata": {},
   "outputs": [],
   "source": [
    "import pandas as pd"
   ]
  },
  {
   "cell_type": "code",
   "execution_count": 131,
   "id": "35972df1",
   "metadata": {},
   "outputs": [],
   "source": [
    "left_df = pd.read_csv('temp_original.csv')\n",
    "left_df = left_df.drop('year', axis=1)\n",
    "right_df = pd.read_csv('temp_S0201.csv')"
   ]
  },
  {
   "cell_type": "code",
   "execution_count": 132,
   "id": "7a37c273",
   "metadata": {},
   "outputs": [
    {
     "data": {
      "text/html": [
       "<div>\n",
       "<style scoped>\n",
       "    .dataframe tbody tr th:only-of-type {\n",
       "        vertical-align: middle;\n",
       "    }\n",
       "\n",
       "    .dataframe tbody tr th {\n",
       "        vertical-align: top;\n",
       "    }\n",
       "\n",
       "    .dataframe thead th {\n",
       "        text-align: right;\n",
       "    }\n",
       "</style>\n",
       "<table border=\"1\" class=\"dataframe\">\n",
       "  <thead>\n",
       "    <tr style=\"text-align: right;\">\n",
       "      <th></th>\n",
       "      <th>MSA</th>\n",
       "    </tr>\n",
       "  </thead>\n",
       "  <tbody>\n",
       "    <tr>\n",
       "      <th>0</th>\n",
       "      <td>Akron, OH</td>\n",
       "    </tr>\n",
       "    <tr>\n",
       "      <th>1</th>\n",
       "      <td>Albany-Schenectady-Troy, NY</td>\n",
       "    </tr>\n",
       "    <tr>\n",
       "      <th>2</th>\n",
       "      <td>Allentown-Bethlehem-Easton, PA-NJ</td>\n",
       "    </tr>\n",
       "    <tr>\n",
       "      <th>3</th>\n",
       "      <td>Altoona, PA</td>\n",
       "    </tr>\n",
       "    <tr>\n",
       "      <th>4</th>\n",
       "      <td>Anaheim-Santa Ana-Irvine, CA</td>\n",
       "    </tr>\n",
       "  </tbody>\n",
       "</table>\n",
       "</div>"
      ],
      "text/plain": [
       "                                 MSA\n",
       "0                          Akron, OH\n",
       "1        Albany-Schenectady-Troy, NY\n",
       "2  Allentown-Bethlehem-Easton, PA-NJ\n",
       "3                        Altoona, PA\n",
       "4       Anaheim-Santa Ana-Irvine, CA"
      ]
     },
     "execution_count": 132,
     "metadata": {},
     "output_type": "execute_result"
    }
   ],
   "source": [
    "left_df.head()"
   ]
  },
  {
   "cell_type": "code",
   "execution_count": 133,
   "id": "c7890042",
   "metadata": {},
   "outputs": [
    {
     "data": {
      "text/plain": [
       "46247"
      ]
     },
     "execution_count": 133,
     "metadata": {},
     "output_type": "execute_result"
    }
   ],
   "source": [
    "left_df.shape[0]"
   ]
  },
  {
   "cell_type": "code",
   "execution_count": 134,
   "id": "73eb46a4",
   "metadata": {},
   "outputs": [
    {
     "data": {
      "text/plain": [
       "114"
      ]
     },
     "execution_count": 134,
     "metadata": {},
     "output_type": "execute_result"
    }
   ],
   "source": [
    "right_df.shape[0]"
   ]
  },
  {
   "cell_type": "code",
   "execution_count": 135,
   "id": "a20493d3",
   "metadata": {},
   "outputs": [
    {
     "data": {
      "text/html": [
       "<div>\n",
       "<style scoped>\n",
       "    .dataframe tbody tr th:only-of-type {\n",
       "        vertical-align: middle;\n",
       "    }\n",
       "\n",
       "    .dataframe tbody tr th {\n",
       "        vertical-align: top;\n",
       "    }\n",
       "\n",
       "    .dataframe thead th {\n",
       "        text-align: right;\n",
       "    }\n",
       "</style>\n",
       "<table border=\"1\" class=\"dataframe\">\n",
       "  <thead>\n",
       "    <tr style=\"text-align: right;\">\n",
       "      <th></th>\n",
       "      <th>MSA</th>\n",
       "      <th>num_races</th>\n",
       "      <th>household_size</th>\n",
       "      <th>frac_married</th>\n",
       "      <th>frac_school</th>\n",
       "      <th>frac_college</th>\n",
       "      <th>frac_educated</th>\n",
       "      <th>annual_births</th>\n",
       "      <th>frac_veteran</th>\n",
       "      <th>frac_disability</th>\n",
       "      <th>non_citizen</th>\n",
       "      <th>employment_rate</th>\n",
       "      <th>frac_priv_insurance</th>\n",
       "      <th>frac_mcare_insurance</th>\n",
       "      <th>frac_no_insurance</th>\n",
       "      <th>poverty_rate</th>\n",
       "    </tr>\n",
       "  </thead>\n",
       "  <tbody>\n",
       "    <tr>\n",
       "      <th>0</th>\n",
       "      <td>Akron, OH</td>\n",
       "      <td>3</td>\n",
       "      <td>2.34</td>\n",
       "      <td>0.46</td>\n",
       "      <td>0.72</td>\n",
       "      <td>0.24</td>\n",
       "      <td>0.92</td>\n",
       "      <td>160,665</td>\n",
       "      <td>0.06</td>\n",
       "      <td>0.14</td>\n",
       "      <td>0.40</td>\n",
       "      <td>0.63</td>\n",
       "      <td>0.68</td>\n",
       "      <td>0.40</td>\n",
       "      <td>0.06</td>\n",
       "      <td>0.09</td>\n",
       "    </tr>\n",
       "    <tr>\n",
       "      <th>1</th>\n",
       "      <td>Albany-Schenectady-Troy, NY</td>\n",
       "      <td>3</td>\n",
       "      <td>2.29</td>\n",
       "      <td>0.47</td>\n",
       "      <td>0.66</td>\n",
       "      <td>0.30</td>\n",
       "      <td>0.93</td>\n",
       "      <td>208,912</td>\n",
       "      <td>0.06</td>\n",
       "      <td>0.13</td>\n",
       "      <td>0.38</td>\n",
       "      <td>0.63</td>\n",
       "      <td>0.74</td>\n",
       "      <td>0.38</td>\n",
       "      <td>0.03</td>\n",
       "      <td>0.07</td>\n",
       "    </tr>\n",
       "    <tr>\n",
       "      <th>2</th>\n",
       "      <td>Albuquerque, NM</td>\n",
       "      <td>4</td>\n",
       "      <td>2.42</td>\n",
       "      <td>0.45</td>\n",
       "      <td>0.72</td>\n",
       "      <td>0.23</td>\n",
       "      <td>0.90</td>\n",
       "      <td>215,515</td>\n",
       "      <td>0.08</td>\n",
       "      <td>0.15</td>\n",
       "      <td>0.49</td>\n",
       "      <td>0.60</td>\n",
       "      <td>0.60</td>\n",
       "      <td>0.46</td>\n",
       "      <td>0.09</td>\n",
       "      <td>0.11</td>\n",
       "    </tr>\n",
       "    <tr>\n",
       "      <th>3</th>\n",
       "      <td>Allentown-Bethlehem-Easton, PA-NJ</td>\n",
       "      <td>4</td>\n",
       "      <td>2.50</td>\n",
       "      <td>0.49</td>\n",
       "      <td>0.71</td>\n",
       "      <td>0.24</td>\n",
       "      <td>0.91</td>\n",
       "      <td>191,596</td>\n",
       "      <td>0.06</td>\n",
       "      <td>0.13</td>\n",
       "      <td>0.42</td>\n",
       "      <td>0.64</td>\n",
       "      <td>0.72</td>\n",
       "      <td>0.37</td>\n",
       "      <td>0.06</td>\n",
       "      <td>0.08</td>\n",
       "    </tr>\n",
       "    <tr>\n",
       "      <th>4</th>\n",
       "      <td>Atlanta-Sandy Springs-Alpharetta, GA</td>\n",
       "      <td>4</td>\n",
       "      <td>2.66</td>\n",
       "      <td>0.48</td>\n",
       "      <td>0.72</td>\n",
       "      <td>0.22</td>\n",
       "      <td>0.91</td>\n",
       "      <td>1,573,561</td>\n",
       "      <td>0.07</td>\n",
       "      <td>0.11</td>\n",
       "      <td>0.48</td>\n",
       "      <td>0.67</td>\n",
       "      <td>0.70</td>\n",
       "      <td>0.28</td>\n",
       "      <td>0.12</td>\n",
       "      <td>0.09</td>\n",
       "    </tr>\n",
       "  </tbody>\n",
       "</table>\n",
       "</div>"
      ],
      "text/plain": [
       "                                    MSA  num_races  household_size  \\\n",
       "0                             Akron, OH          3            2.34   \n",
       "1           Albany-Schenectady-Troy, NY          3            2.29   \n",
       "2                       Albuquerque, NM          4            2.42   \n",
       "3     Allentown-Bethlehem-Easton, PA-NJ          4            2.50   \n",
       "4  Atlanta-Sandy Springs-Alpharetta, GA          4            2.66   \n",
       "\n",
       "   frac_married  frac_school  frac_college  frac_educated annual_births  \\\n",
       "0          0.46         0.72          0.24           0.92       160,665   \n",
       "1          0.47         0.66          0.30           0.93       208,912   \n",
       "2          0.45         0.72          0.23           0.90       215,515   \n",
       "3          0.49         0.71          0.24           0.91       191,596   \n",
       "4          0.48         0.72          0.22           0.91     1,573,561   \n",
       "\n",
       "   frac_veteran  frac_disability  non_citizen  employment_rate  \\\n",
       "0          0.06             0.14         0.40             0.63   \n",
       "1          0.06             0.13         0.38             0.63   \n",
       "2          0.08             0.15         0.49             0.60   \n",
       "3          0.06             0.13         0.42             0.64   \n",
       "4          0.07             0.11         0.48             0.67   \n",
       "\n",
       "   frac_priv_insurance  frac_mcare_insurance  frac_no_insurance  poverty_rate  \n",
       "0                 0.68                  0.40               0.06          0.09  \n",
       "1                 0.74                  0.38               0.03          0.07  \n",
       "2                 0.60                  0.46               0.09          0.11  \n",
       "3                 0.72                  0.37               0.06          0.08  \n",
       "4                 0.70                  0.28               0.12          0.09  "
      ]
     },
     "execution_count": 135,
     "metadata": {},
     "output_type": "execute_result"
    }
   ],
   "source": [
    "right_df.head()"
   ]
  },
  {
   "cell_type": "code",
   "execution_count": 136,
   "id": "94279c16",
   "metadata": {},
   "outputs": [],
   "source": [
    "new_df = left_df.merge(right_df, how='left')#, on='MSA')#, validate='many_to_many')"
   ]
  },
  {
   "cell_type": "code",
   "execution_count": 137,
   "id": "cd76d486",
   "metadata": {},
   "outputs": [],
   "source": [
    "# df = pd.merge(left_df, right_df, on=['MSA'], how=\"outer\", indicator=True)\n",
    "# df = df[df['_merge'] == 'right_only']\n",
    "# df = df.drop('_merge', axis=1)"
   ]
  },
  {
   "cell_type": "code",
   "execution_count": 138,
   "id": "2de26be2",
   "metadata": {},
   "outputs": [
    {
     "data": {
      "text/html": [
       "<div>\n",
       "<style scoped>\n",
       "    .dataframe tbody tr th:only-of-type {\n",
       "        vertical-align: middle;\n",
       "    }\n",
       "\n",
       "    .dataframe tbody tr th {\n",
       "        vertical-align: top;\n",
       "    }\n",
       "\n",
       "    .dataframe thead th {\n",
       "        text-align: right;\n",
       "    }\n",
       "</style>\n",
       "<table border=\"1\" class=\"dataframe\">\n",
       "  <thead>\n",
       "    <tr style=\"text-align: right;\">\n",
       "      <th></th>\n",
       "      <th>MSA</th>\n",
       "      <th>num_races</th>\n",
       "      <th>household_size</th>\n",
       "      <th>frac_married</th>\n",
       "      <th>frac_school</th>\n",
       "      <th>frac_college</th>\n",
       "      <th>frac_educated</th>\n",
       "      <th>annual_births</th>\n",
       "      <th>frac_veteran</th>\n",
       "      <th>frac_disability</th>\n",
       "      <th>non_citizen</th>\n",
       "      <th>employment_rate</th>\n",
       "      <th>frac_priv_insurance</th>\n",
       "      <th>frac_mcare_insurance</th>\n",
       "      <th>frac_no_insurance</th>\n",
       "      <th>poverty_rate</th>\n",
       "    </tr>\n",
       "  </thead>\n",
       "  <tbody>\n",
       "    <tr>\n",
       "      <th>0</th>\n",
       "      <td>Akron, OH</td>\n",
       "      <td>3.0</td>\n",
       "      <td>2.34</td>\n",
       "      <td>0.46</td>\n",
       "      <td>0.72</td>\n",
       "      <td>0.24</td>\n",
       "      <td>0.92</td>\n",
       "      <td>160,665</td>\n",
       "      <td>0.06</td>\n",
       "      <td>0.14</td>\n",
       "      <td>0.40</td>\n",
       "      <td>0.63</td>\n",
       "      <td>0.68</td>\n",
       "      <td>0.40</td>\n",
       "      <td>0.06</td>\n",
       "      <td>0.09</td>\n",
       "    </tr>\n",
       "    <tr>\n",
       "      <th>1</th>\n",
       "      <td>Albany-Schenectady-Troy, NY</td>\n",
       "      <td>3.0</td>\n",
       "      <td>2.29</td>\n",
       "      <td>0.47</td>\n",
       "      <td>0.66</td>\n",
       "      <td>0.30</td>\n",
       "      <td>0.93</td>\n",
       "      <td>208,912</td>\n",
       "      <td>0.06</td>\n",
       "      <td>0.13</td>\n",
       "      <td>0.38</td>\n",
       "      <td>0.63</td>\n",
       "      <td>0.74</td>\n",
       "      <td>0.38</td>\n",
       "      <td>0.03</td>\n",
       "      <td>0.07</td>\n",
       "    </tr>\n",
       "    <tr>\n",
       "      <th>2</th>\n",
       "      <td>Allentown-Bethlehem-Easton, PA-NJ</td>\n",
       "      <td>4.0</td>\n",
       "      <td>2.50</td>\n",
       "      <td>0.49</td>\n",
       "      <td>0.71</td>\n",
       "      <td>0.24</td>\n",
       "      <td>0.91</td>\n",
       "      <td>191,596</td>\n",
       "      <td>0.06</td>\n",
       "      <td>0.13</td>\n",
       "      <td>0.42</td>\n",
       "      <td>0.64</td>\n",
       "      <td>0.72</td>\n",
       "      <td>0.37</td>\n",
       "      <td>0.06</td>\n",
       "      <td>0.08</td>\n",
       "    </tr>\n",
       "    <tr>\n",
       "      <th>3</th>\n",
       "      <td>Altoona, PA</td>\n",
       "      <td>NaN</td>\n",
       "      <td>NaN</td>\n",
       "      <td>NaN</td>\n",
       "      <td>NaN</td>\n",
       "      <td>NaN</td>\n",
       "      <td>NaN</td>\n",
       "      <td>NaN</td>\n",
       "      <td>NaN</td>\n",
       "      <td>NaN</td>\n",
       "      <td>NaN</td>\n",
       "      <td>NaN</td>\n",
       "      <td>NaN</td>\n",
       "      <td>NaN</td>\n",
       "      <td>NaN</td>\n",
       "      <td>NaN</td>\n",
       "    </tr>\n",
       "    <tr>\n",
       "      <th>4</th>\n",
       "      <td>Anaheim-Santa Ana-Irvine, CA</td>\n",
       "      <td>NaN</td>\n",
       "      <td>NaN</td>\n",
       "      <td>NaN</td>\n",
       "      <td>NaN</td>\n",
       "      <td>NaN</td>\n",
       "      <td>NaN</td>\n",
       "      <td>NaN</td>\n",
       "      <td>NaN</td>\n",
       "      <td>NaN</td>\n",
       "      <td>NaN</td>\n",
       "      <td>NaN</td>\n",
       "      <td>NaN</td>\n",
       "      <td>NaN</td>\n",
       "      <td>NaN</td>\n",
       "      <td>NaN</td>\n",
       "    </tr>\n",
       "  </tbody>\n",
       "</table>\n",
       "</div>"
      ],
      "text/plain": [
       "                                 MSA  num_races  household_size  frac_married  \\\n",
       "0                          Akron, OH        3.0            2.34          0.46   \n",
       "1        Albany-Schenectady-Troy, NY        3.0            2.29          0.47   \n",
       "2  Allentown-Bethlehem-Easton, PA-NJ        4.0            2.50          0.49   \n",
       "3                        Altoona, PA        NaN             NaN           NaN   \n",
       "4       Anaheim-Santa Ana-Irvine, CA        NaN             NaN           NaN   \n",
       "\n",
       "   frac_school  frac_college  frac_educated annual_births  frac_veteran  \\\n",
       "0         0.72          0.24           0.92       160,665          0.06   \n",
       "1         0.66          0.30           0.93       208,912          0.06   \n",
       "2         0.71          0.24           0.91       191,596          0.06   \n",
       "3          NaN           NaN            NaN           NaN           NaN   \n",
       "4          NaN           NaN            NaN           NaN           NaN   \n",
       "\n",
       "   frac_disability  non_citizen  employment_rate  frac_priv_insurance  \\\n",
       "0             0.14         0.40             0.63                 0.68   \n",
       "1             0.13         0.38             0.63                 0.74   \n",
       "2             0.13         0.42             0.64                 0.72   \n",
       "3              NaN          NaN              NaN                  NaN   \n",
       "4              NaN          NaN              NaN                  NaN   \n",
       "\n",
       "   frac_mcare_insurance  frac_no_insurance  poverty_rate  \n",
       "0                  0.40               0.06          0.09  \n",
       "1                  0.38               0.03          0.07  \n",
       "2                  0.37               0.06          0.08  \n",
       "3                   NaN                NaN           NaN  \n",
       "4                   NaN                NaN           NaN  "
      ]
     },
     "execution_count": 138,
     "metadata": {},
     "output_type": "execute_result"
    }
   ],
   "source": [
    "new_df.head()"
   ]
  },
  {
   "cell_type": "code",
   "execution_count": 139,
   "id": "d354986b",
   "metadata": {},
   "outputs": [
    {
     "data": {
      "text/plain": [
       "46247"
      ]
     },
     "execution_count": 139,
     "metadata": {},
     "output_type": "execute_result"
    }
   ],
   "source": [
    "new_df.shape[0]"
   ]
  },
  {
   "cell_type": "code",
   "execution_count": 140,
   "id": "d42a0938",
   "metadata": {},
   "outputs": [
    {
     "data": {
      "text/plain": [
       "46247"
      ]
     },
     "execution_count": 140,
     "metadata": {},
     "output_type": "execute_result"
    }
   ],
   "source": [
    "left_df.shape[0]"
   ]
  },
  {
   "cell_type": "code",
   "execution_count": 141,
   "id": "ec7e44f2",
   "metadata": {},
   "outputs": [],
   "source": [
    "new_df.to_csv('joined_S0201.csv')  "
   ]
  },
  {
   "cell_type": "code",
   "execution_count": null,
   "id": "db5a8f27",
   "metadata": {},
   "outputs": [],
   "source": []
  }
 ],
 "metadata": {
  "kernelspec": {
   "display_name": "Python 3",
   "language": "python",
   "name": "python3"
  },
  "language_info": {
   "codemirror_mode": {
    "name": "ipython",
    "version": 3
   },
   "file_extension": ".py",
   "mimetype": "text/x-python",
   "name": "python",
   "nbconvert_exporter": "python",
   "pygments_lexer": "ipython3",
   "version": "3.9.6"
  }
 },
 "nbformat": 4,
 "nbformat_minor": 5
}
