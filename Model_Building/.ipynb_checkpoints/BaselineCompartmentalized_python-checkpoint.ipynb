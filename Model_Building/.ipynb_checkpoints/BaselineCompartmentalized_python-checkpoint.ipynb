{
 "cells": [
  {
   "cell_type": "markdown",
   "id": "81eb7c6e",
   "metadata": {},
   "source": [
    "# Baseline Model - Python Version"
   ]
  },
  {
   "cell_type": "markdown",
   "id": "13a4fdd5",
   "metadata": {},
   "source": [
    "## Library Imports"
   ]
  },
  {
   "cell_type": "code",
   "execution_count": 1,
   "id": "c707dca7",
   "metadata": {},
   "outputs": [],
   "source": [
    "# Necessary code to import our helper functions\n",
    "import sys\n",
    "sys.path.append(\"..\")"
   ]
  },
  {
   "cell_type": "code",
   "execution_count": 2,
   "id": "331fb943",
   "metadata": {},
   "outputs": [],
   "source": [
    "# Library imports\n",
    "import numpy as np\n",
    "import pandas as pd\n",
    "from sklearn.model_selection import train_test_split\n",
    "from sklearn.ensemble import RandomForestRegressor\n",
    "from sklearn.metrics import mean_absolute_percentage_error\n",
    "from Common_Functions import data_split, add_unique_identifier, data_cleaning, hospital_data_agg"
   ]
  },
  {
   "cell_type": "markdown",
   "id": "cd097cf7",
   "metadata": {},
   "source": [
    "## Data Import"
   ]
  },
  {
   "cell_type": "code",
   "execution_count": 3,
   "id": "7628bfd6",
   "metadata": {},
   "outputs": [],
   "source": [
    "data = pd.read_csv(\"../Data_Files/JnJ_Files/priv_mcare_f_pay_2022Oct18.csv\")\n",
    "hospital_data = pd.read_csv(\"../Data_Files/JnJ_Files/Hospital_Master_Sheet.csv\")"
   ]
  },
  {
   "cell_type": "markdown",
   "id": "a3358bfa",
   "metadata": {},
   "source": [
    "## Model Parameters"
   ]
  },
  {
   "cell_type": "code",
   "execution_count": 4,
   "id": "673d8c34",
   "metadata": {},
   "outputs": [],
   "source": [
    "COUNT_THRESH = 49\n",
    "RDM_SEED = 123\n",
    "TRAIN_TEST_PROPORTION = 0.8"
   ]
  },
  {
   "cell_type": "markdown",
   "id": "89e1826a",
   "metadata": {},
   "source": [
    "## Data Transformation"
   ]
  },
  {
   "cell_type": "markdown",
   "id": "50f101f0",
   "metadata": {},
   "source": [
    "### One-Hot Categorical Encoding and Dropping NAs"
   ]
  },
  {
   "cell_type": "code",
   "execution_count": 5,
   "id": "0bc3e73a",
   "metadata": {},
   "outputs": [],
   "source": [
    "data = data_cleaning(data)"
   ]
  },
  {
   "cell_type": "markdown",
   "id": "0d41355b",
   "metadata": {},
   "source": [
    "### Hospital Data"
   ]
  },
  {
   "cell_type": "code",
   "execution_count": 7,
   "id": "b91dc689",
   "metadata": {},
   "outputs": [
    {
     "data": {
      "text/html": [
       "<div>\n",
       "<style scoped>\n",
       "    .dataframe tbody tr th:only-of-type {\n",
       "        vertical-align: middle;\n",
       "    }\n",
       "\n",
       "    .dataframe tbody tr th {\n",
       "        vertical-align: top;\n",
       "    }\n",
       "\n",
       "    .dataframe thead th {\n",
       "        text-align: right;\n",
       "    }\n",
       "</style>\n",
       "<table border=\"1\" class=\"dataframe\">\n",
       "  <thead>\n",
       "    <tr style=\"text-align: right;\">\n",
       "      <th></th>\n",
       "      <th>msa</th>\n",
       "      <th>Hospitals</th>\n",
       "      <th>PctTeaching</th>\n",
       "      <th>PctLargeHospital</th>\n",
       "      <th>Urban</th>\n",
       "      <th>PctPrivate</th>\n",
       "    </tr>\n",
       "  </thead>\n",
       "  <tbody>\n",
       "    <tr>\n",
       "      <th>0</th>\n",
       "      <td>1</td>\n",
       "      <td>64</td>\n",
       "      <td>0.062500</td>\n",
       "      <td>0.000000</td>\n",
       "      <td>0.0</td>\n",
       "      <td>0.484375</td>\n",
       "    </tr>\n",
       "    <tr>\n",
       "      <th>1</th>\n",
       "      <td>2</td>\n",
       "      <td>13</td>\n",
       "      <td>0.076923</td>\n",
       "      <td>0.000000</td>\n",
       "      <td>0.0</td>\n",
       "      <td>0.153846</td>\n",
       "    </tr>\n",
       "    <tr>\n",
       "      <th>2</th>\n",
       "      <td>3</td>\n",
       "      <td>18</td>\n",
       "      <td>0.111111</td>\n",
       "      <td>0.000000</td>\n",
       "      <td>0.0</td>\n",
       "      <td>0.444444</td>\n",
       "    </tr>\n",
       "    <tr>\n",
       "      <th>3</th>\n",
       "      <td>4</td>\n",
       "      <td>71</td>\n",
       "      <td>0.098592</td>\n",
       "      <td>0.028169</td>\n",
       "      <td>0.0</td>\n",
       "      <td>0.591549</td>\n",
       "    </tr>\n",
       "    <tr>\n",
       "      <th>4</th>\n",
       "      <td>5</td>\n",
       "      <td>42</td>\n",
       "      <td>0.023810</td>\n",
       "      <td>0.000000</td>\n",
       "      <td>0.0</td>\n",
       "      <td>0.214286</td>\n",
       "    </tr>\n",
       "    <tr>\n",
       "      <th>...</th>\n",
       "      <td>...</td>\n",
       "      <td>...</td>\n",
       "      <td>...</td>\n",
       "      <td>...</td>\n",
       "      <td>...</td>\n",
       "      <td>...</td>\n",
       "    </tr>\n",
       "    <tr>\n",
       "      <th>479</th>\n",
       "      <td>99944</td>\n",
       "      <td>4</td>\n",
       "      <td>0.000000</td>\n",
       "      <td>0.000000</td>\n",
       "      <td>1.0</td>\n",
       "      <td>0.000000</td>\n",
       "    </tr>\n",
       "    <tr>\n",
       "      <th>480</th>\n",
       "      <td>99945</td>\n",
       "      <td>1</td>\n",
       "      <td>0.000000</td>\n",
       "      <td>0.000000</td>\n",
       "      <td>1.0</td>\n",
       "      <td>0.000000</td>\n",
       "    </tr>\n",
       "    <tr>\n",
       "      <th>481</th>\n",
       "      <td>99949</td>\n",
       "      <td>1</td>\n",
       "      <td>0.000000</td>\n",
       "      <td>0.000000</td>\n",
       "      <td>1.0</td>\n",
       "      <td>1.000000</td>\n",
       "    </tr>\n",
       "    <tr>\n",
       "      <th>482</th>\n",
       "      <td>99951</td>\n",
       "      <td>2</td>\n",
       "      <td>0.500000</td>\n",
       "      <td>0.000000</td>\n",
       "      <td>1.0</td>\n",
       "      <td>0.000000</td>\n",
       "    </tr>\n",
       "    <tr>\n",
       "      <th>483</th>\n",
       "      <td>99952</td>\n",
       "      <td>2</td>\n",
       "      <td>0.000000</td>\n",
       "      <td>0.000000</td>\n",
       "      <td>1.0</td>\n",
       "      <td>0.000000</td>\n",
       "    </tr>\n",
       "  </tbody>\n",
       "</table>\n",
       "<p>484 rows × 6 columns</p>\n",
       "</div>"
      ],
      "text/plain": [
       "       msa  Hospitals  PctTeaching  PctLargeHospital  Urban  PctPrivate\n",
       "0        1         64     0.062500          0.000000    0.0    0.484375\n",
       "1        2         13     0.076923          0.000000    0.0    0.153846\n",
       "2        3         18     0.111111          0.000000    0.0    0.444444\n",
       "3        4         71     0.098592          0.028169    0.0    0.591549\n",
       "4        5         42     0.023810          0.000000    0.0    0.214286\n",
       "..     ...        ...          ...               ...    ...         ...\n",
       "479  99944          4     0.000000          0.000000    1.0    0.000000\n",
       "480  99945          1     0.000000          0.000000    1.0    0.000000\n",
       "481  99949          1     0.000000          0.000000    1.0    1.000000\n",
       "482  99951          2     0.500000          0.000000    1.0    0.000000\n",
       "483  99952          2     0.000000          0.000000    1.0    0.000000\n",
       "\n",
       "[484 rows x 6 columns]"
      ]
     },
     "metadata": {},
     "output_type": "display_data"
    }
   ],
   "source": [
    "hospital_msa = hospital_data_agg(hospital_data)\n",
    "\n",
    "display(hospital_msa)"
   ]
  },
  {
   "cell_type": "markdown",
   "id": "fcab4752",
   "metadata": {},
   "source": [
    "### Data Split"
   ]
  },
  {
   "cell_type": "code",
   "execution_count": null,
   "id": "f6073646",
   "metadata": {},
   "outputs": [],
   "source": [
    "working_set, predict_set = data_split(data, count_thresh = COUNT_THRESH)"
   ]
  },
  {
   "cell_type": "code",
   "execution_count": null,
   "id": "ecd1a7e6",
   "metadata": {},
   "outputs": [],
   "source": [
    "model_data = working_set.merge(hospital_msa,how=\"left\", on=\"msa\").drop(columns=[\"priv_pay_mean\",\n",
    "                                                                                \"priv_pay_iqr\",\n",
    "                                                                                \"mcare_pay_mean\",\n",
    "                                                                                \"mcare_pay_sd\",\n",
    "                                                                                \"Urban\",\n",
    "                                                                                \"msa\"])\n",
    "predict_data = predict_set.merge(hospital_msa,how=\"left\", on=\"msa\").drop(columns=[\"priv_pay_mean\",\n",
    "                                                                                  \"priv_pay_iqr\",\n",
    "                                                                                  \"mcare_pay_mean\",\n",
    "                                                                                  \"mcare_pay_sd\",\n",
    "                                                                                  \"Urban\",\n",
    "                                                                                  \"msa\"])"
   ]
  },
  {
   "cell_type": "code",
   "execution_count": null,
   "id": "d567dde7",
   "metadata": {},
   "outputs": [],
   "source": [
    "display(model_data)"
   ]
  },
  {
   "cell_type": "markdown",
   "id": "207d1fcf",
   "metadata": {},
   "source": [
    "### Train / Test Split"
   ]
  },
  {
   "cell_type": "code",
   "execution_count": null,
   "id": "c0a0878e",
   "metadata": {},
   "outputs": [],
   "source": [
    "X_input = model_data.drop(columns=[\"priv_pay_median\"])\n",
    "y_input = model_data[\"priv_pay_median\"]\n",
    "\n",
    "X_train, X_test, y_train, y_test = train_test_split(X_input,\n",
    "                                                    y_input,\n",
    "                                                    train_size = TRAIN_TEST_PROPORTION,\n",
    "                                                    random_state = RDM_SEED)"
   ]
  },
  {
   "cell_type": "markdown",
   "id": "b9648dc2",
   "metadata": {},
   "source": [
    "### Random Forest Classifier\n",
    "Note: some arguments are altered (One-Hot Encoding made this infeasible)"
   ]
  },
  {
   "cell_type": "code",
   "execution_count": null,
   "id": "d1a927a6",
   "metadata": {},
   "outputs": [],
   "source": [
    "baseline_model = RandomForestRegressor(n_estimators=500)"
   ]
  },
  {
   "cell_type": "code",
   "execution_count": null,
   "id": "1842f300",
   "metadata": {},
   "outputs": [],
   "source": [
    "baseline_model.fit(X_train, y_train)"
   ]
  },
  {
   "cell_type": "code",
   "execution_count": null,
   "id": "262e3a75",
   "metadata": {},
   "outputs": [],
   "source": [
    "y_train_pred = baseline_model.predict(X_train)"
   ]
  },
  {
   "cell_type": "code",
   "execution_count": null,
   "id": "ea0ec649",
   "metadata": {},
   "outputs": [],
   "source": [
    "y_test_pred = baseline_model.predict(X_test)"
   ]
  },
  {
   "cell_type": "code",
   "execution_count": null,
   "id": "8a3491bc",
   "metadata": {},
   "outputs": [],
   "source": [
    "print(f\"With Threshold >{COUNT_THRESH} claims for training set:\\n\")\n",
    "print(f\"Train MAPE: {mean_absolute_percentage_error(y_true=y_train, y_pred=y_train_pred)}\")\n",
    "print(f\"Test MAPE: {mean_absolute_percentage_error(y_true=y_test, y_pred=y_test_pred)}\")"
   ]
  }
 ],
 "metadata": {
  "kernelspec": {
   "display_name": "Python 3 (ipykernel)",
   "language": "python",
   "name": "python3"
  },
  "language_info": {
   "codemirror_mode": {
    "name": "ipython",
    "version": 3
   },
   "file_extension": ".py",
   "mimetype": "text/x-python",
   "name": "python",
   "nbconvert_exporter": "python",
   "pygments_lexer": "ipython3",
   "version": "3.8.8"
  }
 },
 "nbformat": 4,
 "nbformat_minor": 5
}
