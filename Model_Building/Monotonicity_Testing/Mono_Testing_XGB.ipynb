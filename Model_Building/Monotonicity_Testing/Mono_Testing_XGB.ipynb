{
 "cells": [
  {
   "cell_type": "markdown",
   "id": "81eb7c6e",
   "metadata": {},
   "source": [
    "# Baseline Model - Python Version"
   ]
  },
  {
   "cell_type": "markdown",
   "id": "13a4fdd5",
   "metadata": {},
   "source": [
    "## Library Imports"
   ]
  },
  {
   "cell_type": "code",
   "execution_count": 1,
   "id": "c707dca7",
   "metadata": {},
   "outputs": [],
   "source": [
    "# Necessary code to import our helper functions\n",
    "import sys\n",
    "sys.path.append(\"../..\")"
   ]
  },
  {
   "cell_type": "code",
   "execution_count": 2,
   "id": "331fb943",
   "metadata": {},
   "outputs": [
    {
     "name": "stderr",
     "output_type": "stream",
     "text": [
      "C:\\Users\\rogmo\\anaconda3\\lib\\site-packages\\xgboost\\compat.py:36: FutureWarning: pandas.Int64Index is deprecated and will be removed from pandas in a future version. Use pandas.Index with the appropriate dtype instead.\n",
      "  from pandas import MultiIndex, Int64Index\n"
     ]
    }
   ],
   "source": [
    "# Library imports\n",
    "import numpy as np\n",
    "import pandas as pd\n",
    "from sklearn.model_selection import train_test_split\n",
    "from sklearn.ensemble import RandomForestRegressor\n",
    "import xgboost as xgb\n",
    "from sklearn.metrics import mean_absolute_percentage_error\n",
    "from Common_Functions import data_split, add_unique_identifier, data_cleaning, hospital_data_agg"
   ]
  },
  {
   "cell_type": "markdown",
   "id": "cd097cf7",
   "metadata": {},
   "source": [
    "## Data Import"
   ]
  },
  {
   "cell_type": "code",
   "execution_count": 3,
   "id": "7628bfd6",
   "metadata": {},
   "outputs": [],
   "source": [
    "data = pd.read_csv(\"../../Data_Files/JnJ_Files/priv_mcare_f_pay_2022Oct18.csv\")\n",
    "hospital_data = pd.read_csv(\"../../Data_Files/JnJ_Files/Hospital_Master_Sheet.csv\")"
   ]
  },
  {
   "cell_type": "markdown",
   "id": "a3358bfa",
   "metadata": {},
   "source": [
    "## Model Parameters"
   ]
  },
  {
   "cell_type": "code",
   "execution_count": 4,
   "id": "673d8c34",
   "metadata": {},
   "outputs": [],
   "source": [
    "COUNT_THRESH = 34\n",
    "RDM_SEED = 123\n",
    "TRAIN_TEST_PROPORTION = 0.8"
   ]
  },
  {
   "cell_type": "markdown",
   "id": "89e1826a",
   "metadata": {},
   "source": [
    "## Data Transformation"
   ]
  },
  {
   "cell_type": "markdown",
   "id": "50f101f0",
   "metadata": {},
   "source": [
    "### One-Hot Categorical Encoding and Dropping NAs"
   ]
  },
  {
   "cell_type": "code",
   "execution_count": 5,
   "id": "0bc3e73a",
   "metadata": {},
   "outputs": [],
   "source": [
    "data.drop(columns = ['CBSA_NAME'], inplace=True)\n",
    "data = data_cleaning(data)"
   ]
  },
  {
   "cell_type": "markdown",
   "id": "0d41355b",
   "metadata": {},
   "source": [
    "### Hospital Data"
   ]
  },
  {
   "cell_type": "code",
   "execution_count": 6,
   "id": "b91dc689",
   "metadata": {},
   "outputs": [
    {
     "data": {
      "text/html": [
       "<div>\n",
       "<style scoped>\n",
       "    .dataframe tbody tr th:only-of-type {\n",
       "        vertical-align: middle;\n",
       "    }\n",
       "\n",
       "    .dataframe tbody tr th {\n",
       "        vertical-align: top;\n",
       "    }\n",
       "\n",
       "    .dataframe thead th {\n",
       "        text-align: right;\n",
       "    }\n",
       "</style>\n",
       "<table border=\"1\" class=\"dataframe\">\n",
       "  <thead>\n",
       "    <tr style=\"text-align: right;\">\n",
       "      <th></th>\n",
       "      <th>msa</th>\n",
       "      <th>Hospitals</th>\n",
       "      <th>PctTeaching</th>\n",
       "      <th>PctLargeHospital</th>\n",
       "      <th>Urban</th>\n",
       "      <th>PctPrivate</th>\n",
       "    </tr>\n",
       "  </thead>\n",
       "  <tbody>\n",
       "    <tr>\n",
       "      <th>0</th>\n",
       "      <td>1</td>\n",
       "      <td>64</td>\n",
       "      <td>0.062500</td>\n",
       "      <td>0.000000</td>\n",
       "      <td>0.0</td>\n",
       "      <td>0.484375</td>\n",
       "    </tr>\n",
       "    <tr>\n",
       "      <th>1</th>\n",
       "      <td>2</td>\n",
       "      <td>13</td>\n",
       "      <td>0.076923</td>\n",
       "      <td>0.000000</td>\n",
       "      <td>0.0</td>\n",
       "      <td>0.153846</td>\n",
       "    </tr>\n",
       "    <tr>\n",
       "      <th>2</th>\n",
       "      <td>3</td>\n",
       "      <td>18</td>\n",
       "      <td>0.111111</td>\n",
       "      <td>0.000000</td>\n",
       "      <td>0.0</td>\n",
       "      <td>0.444444</td>\n",
       "    </tr>\n",
       "    <tr>\n",
       "      <th>3</th>\n",
       "      <td>4</td>\n",
       "      <td>71</td>\n",
       "      <td>0.098592</td>\n",
       "      <td>0.028169</td>\n",
       "      <td>0.0</td>\n",
       "      <td>0.591549</td>\n",
       "    </tr>\n",
       "    <tr>\n",
       "      <th>4</th>\n",
       "      <td>5</td>\n",
       "      <td>42</td>\n",
       "      <td>0.023810</td>\n",
       "      <td>0.000000</td>\n",
       "      <td>0.0</td>\n",
       "      <td>0.214286</td>\n",
       "    </tr>\n",
       "    <tr>\n",
       "      <th>...</th>\n",
       "      <td>...</td>\n",
       "      <td>...</td>\n",
       "      <td>...</td>\n",
       "      <td>...</td>\n",
       "      <td>...</td>\n",
       "      <td>...</td>\n",
       "    </tr>\n",
       "    <tr>\n",
       "      <th>479</th>\n",
       "      <td>99944</td>\n",
       "      <td>4</td>\n",
       "      <td>0.000000</td>\n",
       "      <td>0.000000</td>\n",
       "      <td>1.0</td>\n",
       "      <td>0.000000</td>\n",
       "    </tr>\n",
       "    <tr>\n",
       "      <th>480</th>\n",
       "      <td>99945</td>\n",
       "      <td>1</td>\n",
       "      <td>0.000000</td>\n",
       "      <td>0.000000</td>\n",
       "      <td>1.0</td>\n",
       "      <td>0.000000</td>\n",
       "    </tr>\n",
       "    <tr>\n",
       "      <th>481</th>\n",
       "      <td>99949</td>\n",
       "      <td>1</td>\n",
       "      <td>0.000000</td>\n",
       "      <td>0.000000</td>\n",
       "      <td>1.0</td>\n",
       "      <td>1.000000</td>\n",
       "    </tr>\n",
       "    <tr>\n",
       "      <th>482</th>\n",
       "      <td>99951</td>\n",
       "      <td>2</td>\n",
       "      <td>0.500000</td>\n",
       "      <td>0.000000</td>\n",
       "      <td>1.0</td>\n",
       "      <td>0.000000</td>\n",
       "    </tr>\n",
       "    <tr>\n",
       "      <th>483</th>\n",
       "      <td>99952</td>\n",
       "      <td>2</td>\n",
       "      <td>0.000000</td>\n",
       "      <td>0.000000</td>\n",
       "      <td>1.0</td>\n",
       "      <td>0.000000</td>\n",
       "    </tr>\n",
       "  </tbody>\n",
       "</table>\n",
       "<p>484 rows × 6 columns</p>\n",
       "</div>"
      ],
      "text/plain": [
       "       msa  Hospitals  PctTeaching  PctLargeHospital  Urban  PctPrivate\n",
       "0        1         64     0.062500          0.000000    0.0    0.484375\n",
       "1        2         13     0.076923          0.000000    0.0    0.153846\n",
       "2        3         18     0.111111          0.000000    0.0    0.444444\n",
       "3        4         71     0.098592          0.028169    0.0    0.591549\n",
       "4        5         42     0.023810          0.000000    0.0    0.214286\n",
       "..     ...        ...          ...               ...    ...         ...\n",
       "479  99944          4     0.000000          0.000000    1.0    0.000000\n",
       "480  99945          1     0.000000          0.000000    1.0    0.000000\n",
       "481  99949          1     0.000000          0.000000    1.0    1.000000\n",
       "482  99951          2     0.500000          0.000000    1.0    0.000000\n",
       "483  99952          2     0.000000          0.000000    1.0    0.000000\n",
       "\n",
       "[484 rows x 6 columns]"
      ]
     },
     "metadata": {},
     "output_type": "display_data"
    }
   ],
   "source": [
    "hospital_msa = hospital_data_agg(hospital_data)\n",
    "\n",
    "display(hospital_msa)"
   ]
  },
  {
   "cell_type": "markdown",
   "id": "fcab4752",
   "metadata": {},
   "source": [
    "### Data Split"
   ]
  },
  {
   "cell_type": "code",
   "execution_count": 7,
   "id": "f6073646",
   "metadata": {},
   "outputs": [],
   "source": [
    "working_set, predict_set = data_split(data, count_thresh = COUNT_THRESH)"
   ]
  },
  {
   "cell_type": "code",
   "execution_count": 8,
   "id": "ecd1a7e6",
   "metadata": {},
   "outputs": [],
   "source": [
    "model_data = working_set.merge(hospital_msa,how=\"left\", on=\"msa\").drop(columns=[\"priv_pay_mean\",\n",
    "                                                                                \"priv_pay_iqr\",\n",
    "                                                                                \"mcare_pay_mean\",\n",
    "                                                                                \"mcare_pay_sd\",\n",
    "                                                                                \"Urban\",\n",
    "                                                                                \"msa\"])\n",
    "predict_data = predict_set.merge(hospital_msa,how=\"left\", on=\"msa\").drop(columns=[\"priv_pay_mean\",\n",
    "                                                                                  \"priv_pay_iqr\",\n",
    "                                                                                  \"mcare_pay_mean\",\n",
    "                                                                                  \"mcare_pay_sd\",\n",
    "                                                                                  \"Urban\",\n",
    "                                                                                  \"msa\"])"
   ]
  },
  {
   "cell_type": "code",
   "execution_count": 9,
   "id": "d567dde7",
   "metadata": {},
   "outputs": [
    {
     "data": {
      "text/html": [
       "<div>\n",
       "<style scoped>\n",
       "    .dataframe tbody tr th:only-of-type {\n",
       "        vertical-align: middle;\n",
       "    }\n",
       "\n",
       "    .dataframe tbody tr th {\n",
       "        vertical-align: top;\n",
       "    }\n",
       "\n",
       "    .dataframe thead th {\n",
       "        text-align: right;\n",
       "    }\n",
       "</style>\n",
       "<table border=\"1\" class=\"dataframe\">\n",
       "  <thead>\n",
       "    <tr style=\"text-align: right;\">\n",
       "      <th></th>\n",
       "      <th>year</th>\n",
       "      <th>priv_count</th>\n",
       "      <th>priv_pay_median</th>\n",
       "      <th>mcare_count</th>\n",
       "      <th>mcare_los</th>\n",
       "      <th>mcare_pay_median</th>\n",
       "      <th>lon</th>\n",
       "      <th>lat</th>\n",
       "      <th>site_ASC</th>\n",
       "      <th>site_Inpatient</th>\n",
       "      <th>...</th>\n",
       "      <th>State_Vermont</th>\n",
       "      <th>State_Virginia</th>\n",
       "      <th>State_Washington</th>\n",
       "      <th>State_West Virginia</th>\n",
       "      <th>State_Wisconsin</th>\n",
       "      <th>State_Wyoming</th>\n",
       "      <th>Hospitals</th>\n",
       "      <th>PctTeaching</th>\n",
       "      <th>PctLargeHospital</th>\n",
       "      <th>PctPrivate</th>\n",
       "    </tr>\n",
       "  </thead>\n",
       "  <tbody>\n",
       "    <tr>\n",
       "      <th>0</th>\n",
       "      <td>2018</td>\n",
       "      <td>35.0</td>\n",
       "      <td>10083.34</td>\n",
       "      <td>88.0</td>\n",
       "      <td>0.0</td>\n",
       "      <td>4376.17</td>\n",
       "      <td>-83.743038</td>\n",
       "      <td>42.280826</td>\n",
       "      <td>0</td>\n",
       "      <td>0</td>\n",
       "      <td>...</td>\n",
       "      <td>0</td>\n",
       "      <td>0</td>\n",
       "      <td>0</td>\n",
       "      <td>0</td>\n",
       "      <td>0</td>\n",
       "      <td>0</td>\n",
       "      <td>6</td>\n",
       "      <td>0.500000</td>\n",
       "      <td>0.333333</td>\n",
       "      <td>0.500000</td>\n",
       "    </tr>\n",
       "    <tr>\n",
       "      <th>1</th>\n",
       "      <td>2019</td>\n",
       "      <td>35.0</td>\n",
       "      <td>9076.20</td>\n",
       "      <td>56.0</td>\n",
       "      <td>0.0</td>\n",
       "      <td>5985.04</td>\n",
       "      <td>-105.270546</td>\n",
       "      <td>40.014986</td>\n",
       "      <td>0</td>\n",
       "      <td>0</td>\n",
       "      <td>...</td>\n",
       "      <td>0</td>\n",
       "      <td>0</td>\n",
       "      <td>0</td>\n",
       "      <td>0</td>\n",
       "      <td>0</td>\n",
       "      <td>0</td>\n",
       "      <td>5</td>\n",
       "      <td>0.000000</td>\n",
       "      <td>0.000000</td>\n",
       "      <td>0.600000</td>\n",
       "    </tr>\n",
       "    <tr>\n",
       "      <th>2</th>\n",
       "      <td>2019</td>\n",
       "      <td>35.0</td>\n",
       "      <td>17251.33</td>\n",
       "      <td>121.0</td>\n",
       "      <td>0.0</td>\n",
       "      <td>4386.17</td>\n",
       "      <td>-111.891047</td>\n",
       "      <td>40.760779</td>\n",
       "      <td>0</td>\n",
       "      <td>0</td>\n",
       "      <td>...</td>\n",
       "      <td>0</td>\n",
       "      <td>0</td>\n",
       "      <td>0</td>\n",
       "      <td>0</td>\n",
       "      <td>0</td>\n",
       "      <td>0</td>\n",
       "      <td>18</td>\n",
       "      <td>0.388889</td>\n",
       "      <td>0.055556</td>\n",
       "      <td>0.777778</td>\n",
       "    </tr>\n",
       "    <tr>\n",
       "      <th>3</th>\n",
       "      <td>2020</td>\n",
       "      <td>35.0</td>\n",
       "      <td>11520.39</td>\n",
       "      <td>20.0</td>\n",
       "      <td>0.0</td>\n",
       "      <td>3896.76</td>\n",
       "      <td>-91.665623</td>\n",
       "      <td>41.977880</td>\n",
       "      <td>0</td>\n",
       "      <td>0</td>\n",
       "      <td>...</td>\n",
       "      <td>0</td>\n",
       "      <td>0</td>\n",
       "      <td>0</td>\n",
       "      <td>0</td>\n",
       "      <td>0</td>\n",
       "      <td>0</td>\n",
       "      <td>6</td>\n",
       "      <td>0.166667</td>\n",
       "      <td>0.166667</td>\n",
       "      <td>0.333333</td>\n",
       "    </tr>\n",
       "    <tr>\n",
       "      <th>4</th>\n",
       "      <td>2020</td>\n",
       "      <td>35.0</td>\n",
       "      <td>16731.80</td>\n",
       "      <td>97.0</td>\n",
       "      <td>0.0</td>\n",
       "      <td>3719.49</td>\n",
       "      <td>-78.928824</td>\n",
       "      <td>33.919657</td>\n",
       "      <td>0</td>\n",
       "      <td>0</td>\n",
       "      <td>...</td>\n",
       "      <td>0</td>\n",
       "      <td>0</td>\n",
       "      <td>0</td>\n",
       "      <td>0</td>\n",
       "      <td>0</td>\n",
       "      <td>0</td>\n",
       "      <td>7</td>\n",
       "      <td>0.142857</td>\n",
       "      <td>0.000000</td>\n",
       "      <td>0.571429</td>\n",
       "    </tr>\n",
       "    <tr>\n",
       "      <th>...</th>\n",
       "      <td>...</td>\n",
       "      <td>...</td>\n",
       "      <td>...</td>\n",
       "      <td>...</td>\n",
       "      <td>...</td>\n",
       "      <td>...</td>\n",
       "      <td>...</td>\n",
       "      <td>...</td>\n",
       "      <td>...</td>\n",
       "      <td>...</td>\n",
       "      <td>...</td>\n",
       "      <td>...</td>\n",
       "      <td>...</td>\n",
       "      <td>...</td>\n",
       "      <td>...</td>\n",
       "      <td>...</td>\n",
       "      <td>...</td>\n",
       "      <td>...</td>\n",
       "      <td>...</td>\n",
       "      <td>...</td>\n",
       "      <td>...</td>\n",
       "    </tr>\n",
       "    <tr>\n",
       "      <th>4518</th>\n",
       "      <td>2018</td>\n",
       "      <td>1674.0</td>\n",
       "      <td>8942.50</td>\n",
       "      <td>1112.0</td>\n",
       "      <td>0.0</td>\n",
       "      <td>3749.44</td>\n",
       "      <td>-95.622552</td>\n",
       "      <td>29.598443</td>\n",
       "      <td>0</td>\n",
       "      <td>0</td>\n",
       "      <td>...</td>\n",
       "      <td>0</td>\n",
       "      <td>0</td>\n",
       "      <td>0</td>\n",
       "      <td>0</td>\n",
       "      <td>0</td>\n",
       "      <td>0</td>\n",
       "      <td>181</td>\n",
       "      <td>0.088398</td>\n",
       "      <td>0.060773</td>\n",
       "      <td>0.823204</td>\n",
       "    </tr>\n",
       "    <tr>\n",
       "      <th>4519</th>\n",
       "      <td>2018</td>\n",
       "      <td>1843.0</td>\n",
       "      <td>14929.63</td>\n",
       "      <td>2576.0</td>\n",
       "      <td>0.0</td>\n",
       "      <td>4331.08</td>\n",
       "      <td>-96.920913</td>\n",
       "      <td>32.707875</td>\n",
       "      <td>0</td>\n",
       "      <td>0</td>\n",
       "      <td>...</td>\n",
       "      <td>0</td>\n",
       "      <td>0</td>\n",
       "      <td>0</td>\n",
       "      <td>0</td>\n",
       "      <td>0</td>\n",
       "      <td>0</td>\n",
       "      <td>114</td>\n",
       "      <td>0.105263</td>\n",
       "      <td>0.052632</td>\n",
       "      <td>0.807018</td>\n",
       "    </tr>\n",
       "    <tr>\n",
       "      <th>4520</th>\n",
       "      <td>2018</td>\n",
       "      <td>1900.0</td>\n",
       "      <td>8746.36</td>\n",
       "      <td>1084.0</td>\n",
       "      <td>0.0</td>\n",
       "      <td>3647.39</td>\n",
       "      <td>-84.294090</td>\n",
       "      <td>34.075376</td>\n",
       "      <td>0</td>\n",
       "      <td>0</td>\n",
       "      <td>...</td>\n",
       "      <td>0</td>\n",
       "      <td>0</td>\n",
       "      <td>0</td>\n",
       "      <td>0</td>\n",
       "      <td>0</td>\n",
       "      <td>0</td>\n",
       "      <td>80</td>\n",
       "      <td>0.162500</td>\n",
       "      <td>0.050000</td>\n",
       "      <td>0.725000</td>\n",
       "    </tr>\n",
       "    <tr>\n",
       "      <th>4521</th>\n",
       "      <td>2018</td>\n",
       "      <td>1919.0</td>\n",
       "      <td>10701.58</td>\n",
       "      <td>4248.0</td>\n",
       "      <td>0.0</td>\n",
       "      <td>5153.90</td>\n",
       "      <td>-74.005954</td>\n",
       "      <td>40.712776</td>\n",
       "      <td>0</td>\n",
       "      <td>0</td>\n",
       "      <td>...</td>\n",
       "      <td>0</td>\n",
       "      <td>0</td>\n",
       "      <td>0</td>\n",
       "      <td>0</td>\n",
       "      <td>0</td>\n",
       "      <td>0</td>\n",
       "      <td>143</td>\n",
       "      <td>0.552448</td>\n",
       "      <td>0.230769</td>\n",
       "      <td>0.643357</td>\n",
       "    </tr>\n",
       "    <tr>\n",
       "      <th>4522</th>\n",
       "      <td>2018</td>\n",
       "      <td>2715.0</td>\n",
       "      <td>10522.35</td>\n",
       "      <td>1626.0</td>\n",
       "      <td>0.0</td>\n",
       "      <td>4476.31</td>\n",
       "      <td>-74.005954</td>\n",
       "      <td>40.712776</td>\n",
       "      <td>0</td>\n",
       "      <td>0</td>\n",
       "      <td>...</td>\n",
       "      <td>0</td>\n",
       "      <td>0</td>\n",
       "      <td>0</td>\n",
       "      <td>0</td>\n",
       "      <td>0</td>\n",
       "      <td>0</td>\n",
       "      <td>143</td>\n",
       "      <td>0.552448</td>\n",
       "      <td>0.230769</td>\n",
       "      <td>0.643357</td>\n",
       "    </tr>\n",
       "  </tbody>\n",
       "</table>\n",
       "<p>4523 rows × 117 columns</p>\n",
       "</div>"
      ],
      "text/plain": [
       "      year  priv_count  priv_pay_median  mcare_count  mcare_los  \\\n",
       "0     2018        35.0         10083.34         88.0        0.0   \n",
       "1     2019        35.0          9076.20         56.0        0.0   \n",
       "2     2019        35.0         17251.33        121.0        0.0   \n",
       "3     2020        35.0         11520.39         20.0        0.0   \n",
       "4     2020        35.0         16731.80         97.0        0.0   \n",
       "...    ...         ...              ...          ...        ...   \n",
       "4518  2018      1674.0          8942.50       1112.0        0.0   \n",
       "4519  2018      1843.0         14929.63       2576.0        0.0   \n",
       "4520  2018      1900.0          8746.36       1084.0        0.0   \n",
       "4521  2018      1919.0         10701.58       4248.0        0.0   \n",
       "4522  2018      2715.0         10522.35       1626.0        0.0   \n",
       "\n",
       "      mcare_pay_median         lon        lat  site_ASC  site_Inpatient  ...  \\\n",
       "0              4376.17  -83.743038  42.280826         0               0  ...   \n",
       "1              5985.04 -105.270546  40.014986         0               0  ...   \n",
       "2              4386.17 -111.891047  40.760779         0               0  ...   \n",
       "3              3896.76  -91.665623  41.977880         0               0  ...   \n",
       "4              3719.49  -78.928824  33.919657         0               0  ...   \n",
       "...                ...         ...        ...       ...             ...  ...   \n",
       "4518           3749.44  -95.622552  29.598443         0               0  ...   \n",
       "4519           4331.08  -96.920913  32.707875         0               0  ...   \n",
       "4520           3647.39  -84.294090  34.075376         0               0  ...   \n",
       "4521           5153.90  -74.005954  40.712776         0               0  ...   \n",
       "4522           4476.31  -74.005954  40.712776         0               0  ...   \n",
       "\n",
       "      State_Vermont  State_Virginia  State_Washington  State_West Virginia  \\\n",
       "0                 0               0                 0                    0   \n",
       "1                 0               0                 0                    0   \n",
       "2                 0               0                 0                    0   \n",
       "3                 0               0                 0                    0   \n",
       "4                 0               0                 0                    0   \n",
       "...             ...             ...               ...                  ...   \n",
       "4518              0               0                 0                    0   \n",
       "4519              0               0                 0                    0   \n",
       "4520              0               0                 0                    0   \n",
       "4521              0               0                 0                    0   \n",
       "4522              0               0                 0                    0   \n",
       "\n",
       "      State_Wisconsin  State_Wyoming  Hospitals  PctTeaching  \\\n",
       "0                   0              0          6     0.500000   \n",
       "1                   0              0          5     0.000000   \n",
       "2                   0              0         18     0.388889   \n",
       "3                   0              0          6     0.166667   \n",
       "4                   0              0          7     0.142857   \n",
       "...               ...            ...        ...          ...   \n",
       "4518                0              0        181     0.088398   \n",
       "4519                0              0        114     0.105263   \n",
       "4520                0              0         80     0.162500   \n",
       "4521                0              0        143     0.552448   \n",
       "4522                0              0        143     0.552448   \n",
       "\n",
       "      PctLargeHospital  PctPrivate  \n",
       "0             0.333333    0.500000  \n",
       "1             0.000000    0.600000  \n",
       "2             0.055556    0.777778  \n",
       "3             0.166667    0.333333  \n",
       "4             0.000000    0.571429  \n",
       "...                ...         ...  \n",
       "4518          0.060773    0.823204  \n",
       "4519          0.052632    0.807018  \n",
       "4520          0.050000    0.725000  \n",
       "4521          0.230769    0.643357  \n",
       "4522          0.230769    0.643357  \n",
       "\n",
       "[4523 rows x 117 columns]"
      ]
     },
     "metadata": {},
     "output_type": "display_data"
    }
   ],
   "source": [
    "display(model_data)"
   ]
  },
  {
   "cell_type": "markdown",
   "id": "207d1fcf",
   "metadata": {},
   "source": [
    "### Train / Test Split"
   ]
  },
  {
   "cell_type": "code",
   "execution_count": 10,
   "id": "c0a0878e",
   "metadata": {},
   "outputs": [],
   "source": [
    "X_input = model_data.drop(columns=[\"priv_pay_median\"])\n",
    "y_input = model_data[\"priv_pay_median\"]\n",
    "\n",
    "X_train, X_test, y_train, y_test = train_test_split(X_input,\n",
    "                                                    y_input,\n",
    "                                                    train_size = TRAIN_TEST_PROPORTION,\n",
    "                                                    random_state = RDM_SEED)\n"
   ]
  },
  {
   "cell_type": "markdown",
   "id": "b9648dc2",
   "metadata": {},
   "source": [
    "### Random Forest Classifier\n",
    "Note: some arguments are altered (One-Hot Encoding made this infeasible)"
   ]
  },
  {
   "cell_type": "code",
   "execution_count": 11,
   "id": "d1a927a6",
   "metadata": {},
   "outputs": [],
   "source": [
    "baseline_model = RandomForestRegressor(n_estimators=500, random_state = RDM_SEED)"
   ]
  },
  {
   "cell_type": "code",
   "execution_count": 12,
   "id": "1842f300",
   "metadata": {},
   "outputs": [
    {
     "data": {
      "text/html": [
       "<style>#sk-container-id-1 {color: black;background-color: white;}#sk-container-id-1 pre{padding: 0;}#sk-container-id-1 div.sk-toggleable {background-color: white;}#sk-container-id-1 label.sk-toggleable__label {cursor: pointer;display: block;width: 100%;margin-bottom: 0;padding: 0.3em;box-sizing: border-box;text-align: center;}#sk-container-id-1 label.sk-toggleable__label-arrow:before {content: \"▸\";float: left;margin-right: 0.25em;color: #696969;}#sk-container-id-1 label.sk-toggleable__label-arrow:hover:before {color: black;}#sk-container-id-1 div.sk-estimator:hover label.sk-toggleable__label-arrow:before {color: black;}#sk-container-id-1 div.sk-toggleable__content {max-height: 0;max-width: 0;overflow: hidden;text-align: left;background-color: #f0f8ff;}#sk-container-id-1 div.sk-toggleable__content pre {margin: 0.2em;color: black;border-radius: 0.25em;background-color: #f0f8ff;}#sk-container-id-1 input.sk-toggleable__control:checked~div.sk-toggleable__content {max-height: 200px;max-width: 100%;overflow: auto;}#sk-container-id-1 input.sk-toggleable__control:checked~label.sk-toggleable__label-arrow:before {content: \"▾\";}#sk-container-id-1 div.sk-estimator input.sk-toggleable__control:checked~label.sk-toggleable__label {background-color: #d4ebff;}#sk-container-id-1 div.sk-label input.sk-toggleable__control:checked~label.sk-toggleable__label {background-color: #d4ebff;}#sk-container-id-1 input.sk-hidden--visually {border: 0;clip: rect(1px 1px 1px 1px);clip: rect(1px, 1px, 1px, 1px);height: 1px;margin: -1px;overflow: hidden;padding: 0;position: absolute;width: 1px;}#sk-container-id-1 div.sk-estimator {font-family: monospace;background-color: #f0f8ff;border: 1px dotted black;border-radius: 0.25em;box-sizing: border-box;margin-bottom: 0.5em;}#sk-container-id-1 div.sk-estimator:hover {background-color: #d4ebff;}#sk-container-id-1 div.sk-parallel-item::after {content: \"\";width: 100%;border-bottom: 1px solid gray;flex-grow: 1;}#sk-container-id-1 div.sk-label:hover label.sk-toggleable__label {background-color: #d4ebff;}#sk-container-id-1 div.sk-serial::before {content: \"\";position: absolute;border-left: 1px solid gray;box-sizing: border-box;top: 0;bottom: 0;left: 50%;z-index: 0;}#sk-container-id-1 div.sk-serial {display: flex;flex-direction: column;align-items: center;background-color: white;padding-right: 0.2em;padding-left: 0.2em;position: relative;}#sk-container-id-1 div.sk-item {position: relative;z-index: 1;}#sk-container-id-1 div.sk-parallel {display: flex;align-items: stretch;justify-content: center;background-color: white;position: relative;}#sk-container-id-1 div.sk-item::before, #sk-container-id-1 div.sk-parallel-item::before {content: \"\";position: absolute;border-left: 1px solid gray;box-sizing: border-box;top: 0;bottom: 0;left: 50%;z-index: -1;}#sk-container-id-1 div.sk-parallel-item {display: flex;flex-direction: column;z-index: 1;position: relative;background-color: white;}#sk-container-id-1 div.sk-parallel-item:first-child::after {align-self: flex-end;width: 50%;}#sk-container-id-1 div.sk-parallel-item:last-child::after {align-self: flex-start;width: 50%;}#sk-container-id-1 div.sk-parallel-item:only-child::after {width: 0;}#sk-container-id-1 div.sk-dashed-wrapped {border: 1px dashed gray;margin: 0 0.4em 0.5em 0.4em;box-sizing: border-box;padding-bottom: 0.4em;background-color: white;}#sk-container-id-1 div.sk-label label {font-family: monospace;font-weight: bold;display: inline-block;line-height: 1.2em;}#sk-container-id-1 div.sk-label-container {text-align: center;}#sk-container-id-1 div.sk-container {/* jupyter's `normalize.less` sets `[hidden] { display: none; }` but bootstrap.min.css set `[hidden] { display: none !important; }` so we also need the `!important` here to be able to override the default hidden behavior on the sphinx rendered scikit-learn.org. See: https://github.com/scikit-learn/scikit-learn/issues/21755 */display: inline-block !important;position: relative;}#sk-container-id-1 div.sk-text-repr-fallback {display: none;}</style><div id=\"sk-container-id-1\" class=\"sk-top-container\"><div class=\"sk-text-repr-fallback\"><pre>RandomForestRegressor(n_estimators=500, random_state=123)</pre><b>In a Jupyter environment, please rerun this cell to show the HTML representation or trust the notebook. <br />On GitHub, the HTML representation is unable to render, please try loading this page with nbviewer.org.</b></div><div class=\"sk-container\" hidden><div class=\"sk-item\"><div class=\"sk-estimator sk-toggleable\"><input class=\"sk-toggleable__control sk-hidden--visually\" id=\"sk-estimator-id-1\" type=\"checkbox\" checked><label for=\"sk-estimator-id-1\" class=\"sk-toggleable__label sk-toggleable__label-arrow\">RandomForestRegressor</label><div class=\"sk-toggleable__content\"><pre>RandomForestRegressor(n_estimators=500, random_state=123)</pre></div></div></div></div></div>"
      ],
      "text/plain": [
       "RandomForestRegressor(n_estimators=500, random_state=123)"
      ]
     },
     "execution_count": 12,
     "metadata": {},
     "output_type": "execute_result"
    }
   ],
   "source": [
    "baseline_model.fit(X_train, y_train)"
   ]
  },
  {
   "cell_type": "code",
   "execution_count": 13,
   "id": "262e3a75",
   "metadata": {},
   "outputs": [],
   "source": [
    "y_train_pred_base = baseline_model.predict(X_train)"
   ]
  },
  {
   "cell_type": "code",
   "execution_count": 14,
   "id": "ea0ec649",
   "metadata": {},
   "outputs": [],
   "source": [
    "y_test_pred_base = baseline_model.predict(X_test)"
   ]
  },
  {
   "cell_type": "code",
   "execution_count": 25,
   "id": "b9661288",
   "metadata": {},
   "outputs": [],
   "source": [
    "xgb_model = xgb.XGBRFRegressor(n_estimators = 500, max_depth=20)"
   ]
  },
  {
   "cell_type": "code",
   "execution_count": 27,
   "id": "ff889098",
   "metadata": {
    "scrolled": false
   },
   "outputs": [
    {
     "data": {
      "text/html": [
       "<style>#sk-container-id-5 {color: black;background-color: white;}#sk-container-id-5 pre{padding: 0;}#sk-container-id-5 div.sk-toggleable {background-color: white;}#sk-container-id-5 label.sk-toggleable__label {cursor: pointer;display: block;width: 100%;margin-bottom: 0;padding: 0.3em;box-sizing: border-box;text-align: center;}#sk-container-id-5 label.sk-toggleable__label-arrow:before {content: \"▸\";float: left;margin-right: 0.25em;color: #696969;}#sk-container-id-5 label.sk-toggleable__label-arrow:hover:before {color: black;}#sk-container-id-5 div.sk-estimator:hover label.sk-toggleable__label-arrow:before {color: black;}#sk-container-id-5 div.sk-toggleable__content {max-height: 0;max-width: 0;overflow: hidden;text-align: left;background-color: #f0f8ff;}#sk-container-id-5 div.sk-toggleable__content pre {margin: 0.2em;color: black;border-radius: 0.25em;background-color: #f0f8ff;}#sk-container-id-5 input.sk-toggleable__control:checked~div.sk-toggleable__content {max-height: 200px;max-width: 100%;overflow: auto;}#sk-container-id-5 input.sk-toggleable__control:checked~label.sk-toggleable__label-arrow:before {content: \"▾\";}#sk-container-id-5 div.sk-estimator input.sk-toggleable__control:checked~label.sk-toggleable__label {background-color: #d4ebff;}#sk-container-id-5 div.sk-label input.sk-toggleable__control:checked~label.sk-toggleable__label {background-color: #d4ebff;}#sk-container-id-5 input.sk-hidden--visually {border: 0;clip: rect(1px 1px 1px 1px);clip: rect(1px, 1px, 1px, 1px);height: 1px;margin: -1px;overflow: hidden;padding: 0;position: absolute;width: 1px;}#sk-container-id-5 div.sk-estimator {font-family: monospace;background-color: #f0f8ff;border: 1px dotted black;border-radius: 0.25em;box-sizing: border-box;margin-bottom: 0.5em;}#sk-container-id-5 div.sk-estimator:hover {background-color: #d4ebff;}#sk-container-id-5 div.sk-parallel-item::after {content: \"\";width: 100%;border-bottom: 1px solid gray;flex-grow: 1;}#sk-container-id-5 div.sk-label:hover label.sk-toggleable__label {background-color: #d4ebff;}#sk-container-id-5 div.sk-serial::before {content: \"\";position: absolute;border-left: 1px solid gray;box-sizing: border-box;top: 0;bottom: 0;left: 50%;z-index: 0;}#sk-container-id-5 div.sk-serial {display: flex;flex-direction: column;align-items: center;background-color: white;padding-right: 0.2em;padding-left: 0.2em;position: relative;}#sk-container-id-5 div.sk-item {position: relative;z-index: 1;}#sk-container-id-5 div.sk-parallel {display: flex;align-items: stretch;justify-content: center;background-color: white;position: relative;}#sk-container-id-5 div.sk-item::before, #sk-container-id-5 div.sk-parallel-item::before {content: \"\";position: absolute;border-left: 1px solid gray;box-sizing: border-box;top: 0;bottom: 0;left: 50%;z-index: -1;}#sk-container-id-5 div.sk-parallel-item {display: flex;flex-direction: column;z-index: 1;position: relative;background-color: white;}#sk-container-id-5 div.sk-parallel-item:first-child::after {align-self: flex-end;width: 50%;}#sk-container-id-5 div.sk-parallel-item:last-child::after {align-self: flex-start;width: 50%;}#sk-container-id-5 div.sk-parallel-item:only-child::after {width: 0;}#sk-container-id-5 div.sk-dashed-wrapped {border: 1px dashed gray;margin: 0 0.4em 0.5em 0.4em;box-sizing: border-box;padding-bottom: 0.4em;background-color: white;}#sk-container-id-5 div.sk-label label {font-family: monospace;font-weight: bold;display: inline-block;line-height: 1.2em;}#sk-container-id-5 div.sk-label-container {text-align: center;}#sk-container-id-5 div.sk-container {/* jupyter's `normalize.less` sets `[hidden] { display: none; }` but bootstrap.min.css set `[hidden] { display: none !important; }` so we also need the `!important` here to be able to override the default hidden behavior on the sphinx rendered scikit-learn.org. See: https://github.com/scikit-learn/scikit-learn/issues/21755 */display: inline-block !important;position: relative;}#sk-container-id-5 div.sk-text-repr-fallback {display: none;}</style><div id=\"sk-container-id-5\" class=\"sk-top-container\"><div class=\"sk-text-repr-fallback\"><pre>XGBRFRegressor(base_score=0.5, booster=&#x27;gbtree&#x27;, colsample_bylevel=1,\n",
       "               colsample_bytree=1, enable_categorical=False, gamma=0, gpu_id=-1,\n",
       "               importance_type=None, interaction_constraints=&#x27;&#x27;,\n",
       "               max_delta_step=0, max_depth=20, min_child_weight=1, missing=nan,\n",
       "               monotone_constraints=&#x27;()&#x27;, n_estimators=500, n_jobs=8,\n",
       "               num_parallel_tree=500, objective=&#x27;reg:squarederror&#x27;,\n",
       "               predictor=&#x27;auto&#x27;, random_state=0, reg_alpha=0,\n",
       "               scale_pos_weight=1, tree_method=&#x27;exact&#x27;, validate_parameters=1,\n",
       "               verbosity=None)</pre><b>In a Jupyter environment, please rerun this cell to show the HTML representation or trust the notebook. <br />On GitHub, the HTML representation is unable to render, please try loading this page with nbviewer.org.</b></div><div class=\"sk-container\" hidden><div class=\"sk-item\"><div class=\"sk-estimator sk-toggleable\"><input class=\"sk-toggleable__control sk-hidden--visually\" id=\"sk-estimator-id-5\" type=\"checkbox\" checked><label for=\"sk-estimator-id-5\" class=\"sk-toggleable__label sk-toggleable__label-arrow\">XGBRFRegressor</label><div class=\"sk-toggleable__content\"><pre>XGBRFRegressor(base_score=0.5, booster=&#x27;gbtree&#x27;, colsample_bylevel=1,\n",
       "               colsample_bytree=1, enable_categorical=False, gamma=0, gpu_id=-1,\n",
       "               importance_type=None, interaction_constraints=&#x27;&#x27;,\n",
       "               max_delta_step=0, max_depth=20, min_child_weight=1, missing=nan,\n",
       "               monotone_constraints=&#x27;()&#x27;, n_estimators=500, n_jobs=8,\n",
       "               num_parallel_tree=500, objective=&#x27;reg:squarederror&#x27;,\n",
       "               predictor=&#x27;auto&#x27;, random_state=0, reg_alpha=0,\n",
       "               scale_pos_weight=1, tree_method=&#x27;exact&#x27;, validate_parameters=1,\n",
       "               verbosity=None)</pre></div></div></div></div></div>"
      ],
      "text/plain": [
       "XGBRFRegressor(base_score=0.5, booster='gbtree', colsample_bylevel=1,\n",
       "               colsample_bytree=1, enable_categorical=False, gamma=0, gpu_id=-1,\n",
       "               importance_type=None, interaction_constraints='',\n",
       "               max_delta_step=0, max_depth=20, min_child_weight=1, missing=nan,\n",
       "               monotone_constraints='()', n_estimators=500, n_jobs=8,\n",
       "               num_parallel_tree=500, objective='reg:squarederror',\n",
       "               predictor='auto', random_state=0, reg_alpha=0,\n",
       "               scale_pos_weight=1, tree_method='exact', validate_parameters=1,\n",
       "               verbosity=None)"
      ]
     },
     "execution_count": 27,
     "metadata": {},
     "output_type": "execute_result"
    }
   ],
   "source": [
    "xgb_model.fit(X_train, y_train)"
   ]
  },
  {
   "cell_type": "code",
   "execution_count": 28,
   "id": "79f4a187",
   "metadata": {},
   "outputs": [],
   "source": [
    "y_train_pred_xgb = xgb_model.predict(X_train)"
   ]
  },
  {
   "cell_type": "code",
   "execution_count": 29,
   "id": "016b4ab7",
   "metadata": {},
   "outputs": [],
   "source": [
    "y_test_pred_xgb = xgb_model.predict(X_test)"
   ]
  },
  {
   "cell_type": "code",
   "execution_count": 30,
   "id": "8a3491bc",
   "metadata": {},
   "outputs": [
    {
     "name": "stdout",
     "output_type": "stream",
     "text": [
      "Baseline with Threshold >34 claims for training set:\n",
      "Train MAPE: 0.07607213145420248\n",
      "Test MAPE: 0.16668659762192575\n",
      "\n",
      "XGBoost with Threshold >34 claims for training set:\n",
      "Train MAPE: 0.06110333126070875\n",
      "Test MAPE: 0.1643074301260113\n",
      "\n"
     ]
    }
   ],
   "source": [
    "print(f\"Baseline with Threshold >{COUNT_THRESH} claims for training set:\")\n",
    "print(f\"Train MAPE: {mean_absolute_percentage_error(y_true=y_train, y_pred=y_train_pred_base)}\")\n",
    "print(f\"Test MAPE: {mean_absolute_percentage_error(y_true=y_test, y_pred=y_test_pred_base)}\\n\")\n",
    "print(f\"XGBoost with Threshold >{COUNT_THRESH} claims for training set:\")\n",
    "print(f\"Train MAPE: {mean_absolute_percentage_error(y_true=y_train, y_pred=y_train_pred_xgb)}\")\n",
    "print(f\"Test MAPE: {mean_absolute_percentage_error(y_true=y_test, y_pred=y_test_pred_xgb)}\\n\")"
   ]
  },
  {
   "cell_type": "markdown",
   "id": "bd65af76",
   "metadata": {},
   "source": [
    "### Monotonicity Contraint - Inpatient must be most expensive, all else equal"
   ]
  },
  {
   "cell_type": "code",
   "execution_count": 31,
   "id": "bc071eb3",
   "metadata": {},
   "outputs": [],
   "source": [
    "mono = {'site_Inpatient': 1}\n",
    "xgb_mono_model = xgb.XGBRFRegressor(monotone_constraints = mono, n_estimators = 500, max_depth=20)"
   ]
  },
  {
   "cell_type": "code",
   "execution_count": 32,
   "id": "10b02c79",
   "metadata": {},
   "outputs": [
    {
     "name": "stderr",
     "output_type": "stream",
     "text": [
      "C:\\Users\\rogmo\\anaconda3\\lib\\site-packages\\xgboost\\data.py:250: FutureWarning: pandas.Int64Index is deprecated and will be removed from pandas in a future version. Use pandas.Index with the appropriate dtype instead.\n",
      "  elif isinstance(data.columns, (pd.Int64Index, pd.RangeIndex)):\n"
     ]
    },
    {
     "data": {
      "text/html": [
       "<style>#sk-container-id-6 {color: black;background-color: white;}#sk-container-id-6 pre{padding: 0;}#sk-container-id-6 div.sk-toggleable {background-color: white;}#sk-container-id-6 label.sk-toggleable__label {cursor: pointer;display: block;width: 100%;margin-bottom: 0;padding: 0.3em;box-sizing: border-box;text-align: center;}#sk-container-id-6 label.sk-toggleable__label-arrow:before {content: \"▸\";float: left;margin-right: 0.25em;color: #696969;}#sk-container-id-6 label.sk-toggleable__label-arrow:hover:before {color: black;}#sk-container-id-6 div.sk-estimator:hover label.sk-toggleable__label-arrow:before {color: black;}#sk-container-id-6 div.sk-toggleable__content {max-height: 0;max-width: 0;overflow: hidden;text-align: left;background-color: #f0f8ff;}#sk-container-id-6 div.sk-toggleable__content pre {margin: 0.2em;color: black;border-radius: 0.25em;background-color: #f0f8ff;}#sk-container-id-6 input.sk-toggleable__control:checked~div.sk-toggleable__content {max-height: 200px;max-width: 100%;overflow: auto;}#sk-container-id-6 input.sk-toggleable__control:checked~label.sk-toggleable__label-arrow:before {content: \"▾\";}#sk-container-id-6 div.sk-estimator input.sk-toggleable__control:checked~label.sk-toggleable__label {background-color: #d4ebff;}#sk-container-id-6 div.sk-label input.sk-toggleable__control:checked~label.sk-toggleable__label {background-color: #d4ebff;}#sk-container-id-6 input.sk-hidden--visually {border: 0;clip: rect(1px 1px 1px 1px);clip: rect(1px, 1px, 1px, 1px);height: 1px;margin: -1px;overflow: hidden;padding: 0;position: absolute;width: 1px;}#sk-container-id-6 div.sk-estimator {font-family: monospace;background-color: #f0f8ff;border: 1px dotted black;border-radius: 0.25em;box-sizing: border-box;margin-bottom: 0.5em;}#sk-container-id-6 div.sk-estimator:hover {background-color: #d4ebff;}#sk-container-id-6 div.sk-parallel-item::after {content: \"\";width: 100%;border-bottom: 1px solid gray;flex-grow: 1;}#sk-container-id-6 div.sk-label:hover label.sk-toggleable__label {background-color: #d4ebff;}#sk-container-id-6 div.sk-serial::before {content: \"\";position: absolute;border-left: 1px solid gray;box-sizing: border-box;top: 0;bottom: 0;left: 50%;z-index: 0;}#sk-container-id-6 div.sk-serial {display: flex;flex-direction: column;align-items: center;background-color: white;padding-right: 0.2em;padding-left: 0.2em;position: relative;}#sk-container-id-6 div.sk-item {position: relative;z-index: 1;}#sk-container-id-6 div.sk-parallel {display: flex;align-items: stretch;justify-content: center;background-color: white;position: relative;}#sk-container-id-6 div.sk-item::before, #sk-container-id-6 div.sk-parallel-item::before {content: \"\";position: absolute;border-left: 1px solid gray;box-sizing: border-box;top: 0;bottom: 0;left: 50%;z-index: -1;}#sk-container-id-6 div.sk-parallel-item {display: flex;flex-direction: column;z-index: 1;position: relative;background-color: white;}#sk-container-id-6 div.sk-parallel-item:first-child::after {align-self: flex-end;width: 50%;}#sk-container-id-6 div.sk-parallel-item:last-child::after {align-self: flex-start;width: 50%;}#sk-container-id-6 div.sk-parallel-item:only-child::after {width: 0;}#sk-container-id-6 div.sk-dashed-wrapped {border: 1px dashed gray;margin: 0 0.4em 0.5em 0.4em;box-sizing: border-box;padding-bottom: 0.4em;background-color: white;}#sk-container-id-6 div.sk-label label {font-family: monospace;font-weight: bold;display: inline-block;line-height: 1.2em;}#sk-container-id-6 div.sk-label-container {text-align: center;}#sk-container-id-6 div.sk-container {/* jupyter's `normalize.less` sets `[hidden] { display: none; }` but bootstrap.min.css set `[hidden] { display: none !important; }` so we also need the `!important` here to be able to override the default hidden behavior on the sphinx rendered scikit-learn.org. See: https://github.com/scikit-learn/scikit-learn/issues/21755 */display: inline-block !important;position: relative;}#sk-container-id-6 div.sk-text-repr-fallback {display: none;}</style><div id=\"sk-container-id-6\" class=\"sk-top-container\"><div class=\"sk-text-repr-fallback\"><pre>XGBRFRegressor(base_score=0.5, booster=&#x27;gbtree&#x27;, colsample_bylevel=1,\n",
       "               colsample_bytree=1, enable_categorical=False, gamma=0, gpu_id=-1,\n",
       "               importance_type=None, interaction_constraints=&#x27;&#x27;,\n",
       "               max_delta_step=0, max_depth=20, min_child_weight=1, missing=nan,\n",
       "               monotone_constraints={&#x27;site_Inpatient&#x27;: 1}, n_estimators=500,\n",
       "               n_jobs=8, num_parallel_tree=500, objective=&#x27;reg:squarederror&#x27;,\n",
       "               predictor=&#x27;auto&#x27;, random_state=0, reg_alpha=0,\n",
       "               scale_pos_weight=1, tree_method=&#x27;exact&#x27;, validate_parameters=1,\n",
       "               verbosity=None)</pre><b>In a Jupyter environment, please rerun this cell to show the HTML representation or trust the notebook. <br />On GitHub, the HTML representation is unable to render, please try loading this page with nbviewer.org.</b></div><div class=\"sk-container\" hidden><div class=\"sk-item\"><div class=\"sk-estimator sk-toggleable\"><input class=\"sk-toggleable__control sk-hidden--visually\" id=\"sk-estimator-id-6\" type=\"checkbox\" checked><label for=\"sk-estimator-id-6\" class=\"sk-toggleable__label sk-toggleable__label-arrow\">XGBRFRegressor</label><div class=\"sk-toggleable__content\"><pre>XGBRFRegressor(base_score=0.5, booster=&#x27;gbtree&#x27;, colsample_bylevel=1,\n",
       "               colsample_bytree=1, enable_categorical=False, gamma=0, gpu_id=-1,\n",
       "               importance_type=None, interaction_constraints=&#x27;&#x27;,\n",
       "               max_delta_step=0, max_depth=20, min_child_weight=1, missing=nan,\n",
       "               monotone_constraints={&#x27;site_Inpatient&#x27;: 1}, n_estimators=500,\n",
       "               n_jobs=8, num_parallel_tree=500, objective=&#x27;reg:squarederror&#x27;,\n",
       "               predictor=&#x27;auto&#x27;, random_state=0, reg_alpha=0,\n",
       "               scale_pos_weight=1, tree_method=&#x27;exact&#x27;, validate_parameters=1,\n",
       "               verbosity=None)</pre></div></div></div></div></div>"
      ],
      "text/plain": [
       "XGBRFRegressor(base_score=0.5, booster='gbtree', colsample_bylevel=1,\n",
       "               colsample_bytree=1, enable_categorical=False, gamma=0, gpu_id=-1,\n",
       "               importance_type=None, interaction_constraints='',\n",
       "               max_delta_step=0, max_depth=20, min_child_weight=1, missing=nan,\n",
       "               monotone_constraints={'site_Inpatient': 1}, n_estimators=500,\n",
       "               n_jobs=8, num_parallel_tree=500, objective='reg:squarederror',\n",
       "               predictor='auto', random_state=0, reg_alpha=0,\n",
       "               scale_pos_weight=1, tree_method='exact', validate_parameters=1,\n",
       "               verbosity=None)"
      ]
     },
     "execution_count": 32,
     "metadata": {},
     "output_type": "execute_result"
    }
   ],
   "source": [
    "xgb_mono_model.fit(X_train, y_train)"
   ]
  },
  {
   "cell_type": "code",
   "execution_count": 33,
   "id": "f14b3f03",
   "metadata": {},
   "outputs": [],
   "source": [
    "y_train_pred_xgb = xgb_mono_model.predict(X_train)\n",
    "y_test_pred_xgb = xgb_mono_model.predict(X_test)"
   ]
  },
  {
   "cell_type": "code",
   "execution_count": 34,
   "id": "2a802dbc",
   "metadata": {},
   "outputs": [
    {
     "name": "stdout",
     "output_type": "stream",
     "text": [
      "Monotonic XGBoost with Threshold >34 claims for training set:\n",
      "Train MAPE: 0.06268879884724163\n",
      "Test MAPE: 0.16457715582297136\n",
      "\n"
     ]
    }
   ],
   "source": [
    "print(f\"Monotonic XGBoost with Threshold >{COUNT_THRESH} claims for training set:\")\n",
    "print(f\"Train MAPE: {mean_absolute_percentage_error(y_true=y_train, y_pred=y_train_pred_xgb)}\")\n",
    "print(f\"Test MAPE: {mean_absolute_percentage_error(y_true=y_test, y_pred=y_test_pred_xgb)}\\n\")"
   ]
  },
  {
   "cell_type": "code",
   "execution_count": 35,
   "id": "7a5727e1",
   "metadata": {},
   "outputs": [
    {
     "name": "stdout",
     "output_type": "stream",
     "text": [
      "Index(['year', 'priv_count', 'mcare_count', 'mcare_los', 'mcare_pay_median',\n",
      "       'lon', 'lat', 'site_ASC', 'site_Inpatient', 'site_Outpatient',\n",
      "       ...\n",
      "       'State_Vermont', 'State_Virginia', 'State_Washington',\n",
      "       'State_West Virginia', 'State_Wisconsin', 'State_Wyoming', 'Hospitals',\n",
      "       'PctTeaching', 'PctLargeHospital', 'PctPrivate'],\n",
      "      dtype='object', length=116)\n"
     ]
    },
    {
     "data": {
      "text/plain": [
       "array([1.0829908e-04, 2.1947677e-04, 4.1918841e-04, 4.8335772e-03,\n",
       "       2.5424363e-02, 2.4728109e-03, 3.1695028e-03, 0.0000000e+00,\n",
       "       4.0695734e-02, 2.4497222e-02, 1.6092989e-04, 1.3084853e-03,\n",
       "       1.3621666e-01, 2.6167575e-03, 0.0000000e+00, 5.5220263e-04,\n",
       "       2.6702243e-04, 2.7088044e-04, 2.5088941e-03, 2.2070166e-03,\n",
       "       2.1735795e-03, 1.0616034e-03, 2.0552655e-03, 6.4121305e-05,\n",
       "       1.8732314e-03, 0.0000000e+00, 2.2755111e-04, 1.3632133e-03,\n",
       "       5.4450211e-04, 1.1727549e-03, 3.3057081e-03, 0.0000000e+00,\n",
       "       0.0000000e+00, 0.0000000e+00, 1.6639748e-04, 0.0000000e+00,\n",
       "       0.0000000e+00, 1.8506583e-04, 1.3246578e-04, 6.6093949e-04,\n",
       "       0.0000000e+00, 1.0148708e-03, 4.2334850e-05, 0.0000000e+00,\n",
       "       1.3678447e-02, 5.8952659e-01, 5.3551252e-04, 2.0609803e-04,\n",
       "       1.0643196e-03, 1.5903072e-04, 0.0000000e+00, 0.0000000e+00,\n",
       "       6.1943883e-04, 3.3561859e-04, 2.0417942e-04, 0.0000000e+00,\n",
       "       9.8197244e-04, 1.5058848e-03, 1.5337163e-03, 1.1174633e-03,\n",
       "       1.4648826e-03, 4.2507891e-03, 0.0000000e+00, 1.2287355e-03,\n",
       "       6.5761892e-04, 6.5321755e-03, 2.3929356e-03, 0.0000000e+00,\n",
       "       1.0525269e-02, 4.1095801e-03, 1.5873848e-03, 0.0000000e+00,\n",
       "       0.0000000e+00, 1.3336804e-03, 0.0000000e+00, 5.1427563e-04,\n",
       "       3.8955933e-03, 0.0000000e+00, 0.0000000e+00, 0.0000000e+00,\n",
       "       8.8184569e-03, 1.5655193e-03, 7.7107251e-03, 6.2999642e-04,\n",
       "       3.1914451e-04, 1.5780258e-04, 0.0000000e+00, 2.5832004e-04,\n",
       "       1.0119859e-03, 0.0000000e+00, 2.8864339e-03, 0.0000000e+00,\n",
       "       1.7341547e-02, 4.7427444e-03, 0.0000000e+00, 3.3711523e-03,\n",
       "       1.1060395e-03, 3.7952917e-04, 1.2166551e-03, 0.0000000e+00,\n",
       "       2.0857905e-04, 0.0000000e+00, 2.7876973e-04, 9.6652407e-04,\n",
       "       2.8242350e-03, 4.6841774e-04, 0.0000000e+00, 9.9822124e-03,\n",
       "       9.2383107e-04, 1.3509193e-04, 3.9367150e-03, 0.0000000e+00,\n",
       "       1.9498809e-03, 4.4635199e-03, 2.6499601e-03, 5.7424242e-03],\n",
       "      dtype=float32)"
      ]
     },
     "execution_count": 35,
     "metadata": {},
     "output_type": "execute_result"
    }
   ],
   "source": [
    "print(X_train.columns)\n",
    "xgb_mono_model.feature_importances_"
   ]
  },
  {
   "cell_type": "code",
   "execution_count": null,
   "id": "a920fd5d",
   "metadata": {},
   "outputs": [],
   "source": []
  }
 ],
 "metadata": {
  "kernelspec": {
   "display_name": "Python 3 (ipykernel)",
   "language": "python",
   "name": "python3"
  },
  "language_info": {
   "codemirror_mode": {
    "name": "ipython",
    "version": 3
   },
   "file_extension": ".py",
   "mimetype": "text/x-python",
   "name": "python",
   "nbconvert_exporter": "python",
   "pygments_lexer": "ipython3",
   "version": "3.8.8"
  }
 },
 "nbformat": 4,
 "nbformat_minor": 5
}
