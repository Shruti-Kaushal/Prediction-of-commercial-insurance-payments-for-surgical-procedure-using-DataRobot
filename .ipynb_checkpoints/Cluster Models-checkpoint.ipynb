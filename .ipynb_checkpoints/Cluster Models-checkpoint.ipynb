{
 "cells": [
  {
   "cell_type": "markdown",
   "id": "e1acac57",
   "metadata": {},
   "source": [
    "# Imports"
   ]
  },
  {
   "cell_type": "code",
   "execution_count": null,
   "id": "4cafe71f",
   "metadata": {},
   "outputs": [],
   "source": [
    "import os\n",
    "import numpy as np\n",
    "import pandas as pd\n",
    "import matplotlib.pyplot as plt\n",
    "import seaborn as sns\n",
    "import missingno as msno\n",
    "import Common_Functions as f\n",
    "\n",
    "from category_encoders import TargetEncoder\n",
    "from sklearn.preprocessing import OneHotEncoder, StandardScaler, MinMaxScaler, RobustScaler\n",
    "from sklearn.impute import KNNImputer\n",
    "from sklearn.model_selection import train_test_split, GridSearchCV, KFold, cross_val_score\n",
    "from sklearn.pipeline import make_pipeline, Pipeline\n",
    "from sklearn.compose import make_column_transformer\n",
    "from sklearn.metrics import mean_absolute_percentage_error as mape\n",
    "\n",
    "from sklearn.linear_model import LinearRegression\n",
    "from sklearn.ensemble import RandomForestRegressor\n",
    "from xgboost import XGBRegressor"
   ]
  },
  {
   "cell_type": "code",
   "execution_count": null,
   "id": "0d7f9bcd",
   "metadata": {},
   "outputs": [],
   "source": [
    "import warnings\n",
    "warnings.filterwarnings('ignore')"
   ]
  },
  {
   "cell_type": "code",
   "execution_count": null,
   "id": "61424ac9",
   "metadata": {},
   "outputs": [],
   "source": [
    "path = os.getcwd()+'/'"
   ]
  },
  {
   "cell_type": "markdown",
   "id": "15284234",
   "metadata": {},
   "source": [
    "# Data Cleaning"
   ]
  },
  {
   "cell_type": "markdown",
   "id": "e71201d6",
   "metadata": {},
   "source": [
    "1. Drop all rows with missing mcare_counts\n",
    "2. Drop year column\n",
    "3. Replace inf values with 0\n",
    "4. Apply thresholding on the data"
   ]
  },
  {
   "cell_type": "code",
   "execution_count": null,
   "id": "e454909b",
   "metadata": {},
   "outputs": [],
   "source": [
    "data = pd.read_csv(path+'Feature Matrix/processed_data.csv')\n",
    "data.dropna(subset = ['mcare_count'], inplace = True)\n",
    "data.drop(columns = ['year'], inplace = True)\n",
    "data.replace([np.inf, -np.inf], 0, inplace=True)"
   ]
  },
  {
   "cell_type": "code",
   "execution_count": null,
   "id": "6ea1c25b",
   "metadata": {},
   "outputs": [],
   "source": [
    "model_data, future_data = f.data_split(data, count_thresh = 34)"
   ]
  },
  {
   "cell_type": "code",
   "execution_count": null,
   "id": "69cad5ec",
   "metadata": {},
   "outputs": [],
   "source": [
    "msno.matrix(model_data)\n",
    "plt.title('Missing Values Pattern after Preprocessing & Thresholding', fontsize = 25)\n",
    "plt.show()"
   ]
  },
  {
   "cell_type": "markdown",
   "id": "97443c6c",
   "metadata": {},
   "source": [
    "# Spliting into Cluster Data"
   ]
  },
  {
   "cell_type": "code",
   "execution_count": null,
   "id": "136f9303",
   "metadata": {},
   "outputs": [],
   "source": [
    "clusters = model_data.cluster.unique()\n",
    "print(clusters)"
   ]
  },
  {
   "cell_type": "code",
   "execution_count": null,
   "id": "16ebf6c9",
   "metadata": {},
   "outputs": [],
   "source": [
    "data_0 = model_data[model_data.cluster == 0]\n",
    "data_1 = model_data[model_data.cluster == 1]\n",
    "data_2 = model_data[model_data.cluster == 2]"
   ]
  },
  {
   "cell_type": "code",
   "execution_count": null,
   "id": "5fbd6cf2",
   "metadata": {},
   "outputs": [],
   "source": [
    "X0 = data_0.drop(columns = 'priv_pay_median')\n",
    "y0 = data_0['priv_pay_median']"
   ]
  },
  {
   "cell_type": "code",
   "execution_count": null,
   "id": "78ff9b5f",
   "metadata": {},
   "outputs": [],
   "source": [
    "X1 = data_1.drop(columns = 'priv_pay_median')\n",
    "y1 = data_1['priv_pay_median']"
   ]
  },
  {
   "cell_type": "code",
   "execution_count": null,
   "id": "667d1039",
   "metadata": {},
   "outputs": [],
   "source": [
    "X2 = data_2.drop(columns = 'priv_pay_median')\n",
    "y2 = data_2['priv_pay_median']"
   ]
  },
  {
   "cell_type": "code",
   "execution_count": null,
   "id": "3d39544d",
   "metadata": {},
   "outputs": [],
   "source": [
    "# set by inspecting graph made by Sarthak\n",
    "optimal_k = {0:14,1:3,2:2}"
   ]
  },
  {
   "cell_type": "markdown",
   "id": "9114644c",
   "metadata": {},
   "source": [
    "## Train-Test Split"
   ]
  },
  {
   "cell_type": "code",
   "execution_count": null,
   "id": "8cb6a76d",
   "metadata": {},
   "outputs": [],
   "source": [
    "dev_X0, test_X0, dev_y0, test_y0 = train_test_split(X0, y0, test_size = 0.2, random_state = 0)"
   ]
  },
  {
   "cell_type": "code",
   "execution_count": null,
   "id": "44656e92",
   "metadata": {},
   "outputs": [],
   "source": [
    "dev_X1, test_X1, dev_y1, test_y1 = train_test_split(X1, y1, test_size = 0.2, random_state = 0)"
   ]
  },
  {
   "cell_type": "code",
   "execution_count": null,
   "id": "9c4bbaa1",
   "metadata": {},
   "outputs": [],
   "source": [
    "dev_X2, test_X2, dev_y2, test_y2 = train_test_split(X2, y2, test_size = 0.2, random_state = 0)"
   ]
  },
  {
   "cell_type": "code",
   "execution_count": null,
   "id": "72c5c9d5",
   "metadata": {},
   "outputs": [],
   "source": [
    "dev_X = [dev_X0, dev_X1, dev_X2]\n",
    "dev_y = [dev_y0, dev_y1, dev_y2]\n",
    "test_X = [test_X0, test_X1, test_X2]\n",
    "test_y = [test_y0, test_y1, test_y2]"
   ]
  },
  {
   "cell_type": "markdown",
   "id": "f482d2e2",
   "metadata": {},
   "source": [
    "# Pre-Processing Pipeline"
   ]
  },
  {
   "cell_type": "code",
   "execution_count": null,
   "id": "f425bc85",
   "metadata": {},
   "outputs": [],
   "source": [
    "num_features = model_data.drop(columns = \\\n",
    "                               ['site','CBSA_NAME','group','cluster','priv_pay_median']).columns.to_list()\n",
    "te_features = ['CBSA_NAME','group']\n",
    "ohe_features = ['group']"
   ]
  },
  {
   "cell_type": "code",
   "execution_count": null,
   "id": "9ab632a5",
   "metadata": {},
   "outputs": [],
   "source": [
    "preprocess = make_column_transformer((RobustScaler(),num_features),\\\n",
    "                                     (TargetEncoder(),te_features),\\\n",
    "#                                      (OneHotEncoder(handle_unknown = 'ignore'),ohe_features),\\\n",
    "                                     remainder = 'passthrough')"
   ]
  },
  {
   "cell_type": "markdown",
   "id": "c2b5a0c8",
   "metadata": {},
   "source": [
    "# Model"
   ]
  },
  {
   "cell_type": "markdown",
   "id": "65b8b2fb",
   "metadata": {},
   "source": [
    "## Grid Search"
   ]
  },
  {
   "cell_type": "code",
   "execution_count": null,
   "id": "2eaa5896",
   "metadata": {},
   "outputs": [],
   "source": [
    "params_rf = [{'rf__n_estimators':np.arange(100,550,50),\\\n",
    "         'rf__max_samples':np.arange(20,100,20),\\\n",
    "         'rf__max_features':['sqrt','auto','log2']}]\n",
    "\n",
    "params_xgb = [{'xgb__n_estimators':np.arange(100,550,50),\\\n",
    "               'xgb__max_depth':np.arange(7,25,1),\\\n",
    "               'xgb__subsample':[0.5,0.6,0.7,0.8]}]\n",
    "\n",
    "params_linear = [{'imputation__n_neighbors':np.arange(2,20)}]"
   ]
  },
  {
   "cell_type": "code",
   "execution_count": null,
   "id": "0b6fe4f0",
   "metadata": {},
   "outputs": [],
   "source": [
    "train_df = pd.DataFrame(columns = [0,1,2], index = ['RF','XGB','Linear'])\n",
    "test_df = pd.DataFrame(columns = [0,1,2],index = ['RF','XGB','Linear'])\n",
    "best_models = {}"
   ]
  },
  {
   "cell_type": "code",
   "execution_count": null,
   "id": "b4f229f1",
   "metadata": {},
   "outputs": [],
   "source": [
    "for cluster in range(3):\n",
    "    print('CLUSTER {}'.format(cluster))\n",
    "    for model in train_df.index:\n",
    "        if model == 'RF':\n",
    "            print('model testing...RF')\n",
    "            pipe = Pipeline([('cleaning',preprocess), \\\n",
    "                     ('imputation',KNNImputer(n_neighbors = optimal_k[cluster])), \\\n",
    "                     ('rf',RandomForestRegressor(n_jobs = -1))])\n",
    "            rf_grid = GridSearchCV(pipe, param_grid = params_rf, \\\n",
    "                                   scoring = 'neg_mean_absolute_percentage_error', \\\n",
    "                                   cv = 5)\n",
    "            rf_grid.fit(dev_X[cluster], dev_y[cluster])\n",
    "            best_models[(cluster,'RF')] = rf_grid.best_params_\n",
    "            train_df.loc['RF',cluster] = -rf_grid.score(dev_X[cluster], dev_y[cluster])*100\n",
    "            test_df.loc['RF',cluster] = -rf_grid.score(test_X[cluster], test_y[cluster])*100\n",
    "            print('model testing...complete')\n",
    "            \n",
    "        elif model == 'XGB':\n",
    "            print('model testing...XGB')\n",
    "            pipe = Pipeline([('cleaning',preprocess), \\\n",
    "                             ('imputation',KNNImputer(n_neighbors = optimal_k[cluster])), \\\n",
    "                             ('xgb',XGBRegressor())])\n",
    "            xgb_grid = GridSearchCV(pipe, param_grid = params_xgb, \\\n",
    "                                   scoring = 'neg_mean_absolute_percentage_error', \\\n",
    "                                   cv = 5)\n",
    "            xgb_grid.fit(dev_X[cluster], dev_y[cluster])\n",
    "            best_models[(cluster,'XGB')] = xgb_grid.best_params_\n",
    "            train_df.loc['XGB',cluster] = -xgb_grid.score(dev_X[cluster], dev_y[cluster])*100\n",
    "            test_df.loc['XGB',cluster] = -xgb_grid.score(test_X[cluster], test_y[cluster])*100\n",
    "            print('model testing...complete')\n",
    "            \n",
    "        else:\n",
    "            print('model testing...Linear Regression')\n",
    "            pipe = Pipeline([('cleaning',preprocess), ('imputation',KNNImputer()), \\\n",
    "                     ('linear', LinearRegression())])\n",
    "            linear_grid = GridSearchCV(pipe, param_grid = params_linear, \\\n",
    "                                   scoring = 'neg_mean_absolute_percentage_error', \\\n",
    "                                   cv = 5)\n",
    "            linear_grid.fit(dev_X[cluster], dev_y[cluster])\n",
    "            best_models[(cluster,'Linear')] = linear_grid.best_params_\n",
    "            train_df.loc['Linear',cluster] = -linear_grid.score(dev_X[cluster], dev_y[cluster])*100\n",
    "            test_df.loc['Linear',cluster] = -linear_grid.score(test_X[cluster], test_y[cluster])*100\n",
    "            print('model testing...complete')\n",
    "    print('\\n')"
   ]
  },
  {
   "cell_type": "code",
   "execution_count": null,
   "id": "b206e9e8",
   "metadata": {},
   "outputs": [],
   "source": [
    "# pipe = Pipeline([('cleaning',preprocess), ('imputation',KNNImputer(n_neighbors = 14)), \\\n",
    "#                      ('rf',RandomForestRegressor(warm_start = True, n_jobs = -1))])\n",
    "\n",
    "# params = [{'rf__n_estimators':np.arange(100,550,50),\\\n",
    "#          'rf__max_samples':np.arange(20,100,20),\\\n",
    "#          'rf__max_features':['sqrt','auto','log2']}]\n",
    "\n",
    "# rf_grid = GridSearchCV(pipe, param_grid = params, scoring = 'neg_mean_absolute_percentage_error', cv = 5)\n",
    "\n",
    "# rf_grid.fit(dev_X2, dev_y2)\n",
    "# rf_grid.best_params_\n",
    "# rf_grid.score(dev_X2, dev_y2)"
   ]
  },
  {
   "cell_type": "code",
   "execution_count": null,
   "id": "63b0dd50",
   "metadata": {},
   "outputs": [],
   "source": [
    "# print(rf_grid.best_params_)\n",
    "# print('Train score = {}'.format(-rf_grid.score(dev_X2, dev_y2)*100))\n",
    "# print('Test score = {}'.format(-rf_grid.score(test_X2, test_y2)*100))"
   ]
  },
  {
   "cell_type": "code",
   "execution_count": null,
   "id": "f66534b4",
   "metadata": {},
   "outputs": [],
   "source": []
  },
  {
   "cell_type": "code",
   "execution_count": null,
   "id": "7e5d6bf6",
   "metadata": {},
   "outputs": [],
   "source": []
  },
  {
   "cell_type": "code",
   "execution_count": null,
   "id": "a9ed7e36",
   "metadata": {},
   "outputs": [],
   "source": []
  },
  {
   "cell_type": "code",
   "execution_count": null,
   "id": "9e895cfc",
   "metadata": {},
   "outputs": [],
   "source": []
  }
 ],
 "metadata": {
  "kernelspec": {
   "display_name": "Python 3",
   "language": "python",
   "name": "python3"
  },
  "language_info": {
   "codemirror_mode": {
    "name": "ipython",
    "version": 3
   },
   "file_extension": ".py",
   "mimetype": "text/x-python",
   "name": "python",
   "nbconvert_exporter": "python",
   "pygments_lexer": "ipython3",
   "version": "3.8.8"
  },
  "toc": {
   "base_numbering": 1,
   "nav_menu": {},
   "number_sections": true,
   "sideBar": true,
   "skip_h1_title": false,
   "title_cell": "Table of Contents",
   "title_sidebar": "Contents",
   "toc_cell": false,
   "toc_position": {},
   "toc_section_display": true,
   "toc_window_display": true
  }
 },
 "nbformat": 4,
 "nbformat_minor": 5
}
