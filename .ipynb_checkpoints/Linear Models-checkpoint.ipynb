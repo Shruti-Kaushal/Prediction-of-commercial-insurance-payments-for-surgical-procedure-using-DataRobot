{
 "cells": [
  {
   "cell_type": "code",
   "execution_count": 1,
   "id": "bc318429",
   "metadata": {},
   "outputs": [
    {
     "name": "stderr",
     "output_type": "stream",
     "text": [
      "/Users/shrutikaushal/opt/anaconda3/lib/python3.8/site-packages/scipy/__init__.py:138: UserWarning: A NumPy version >=1.16.5 and <1.23.0 is required for this version of SciPy (detected version 1.23.4)\n",
      "  warnings.warn(f\"A NumPy version >={np_minversion} and <{np_maxversion} is required for this version of \"\n"
     ]
    }
   ],
   "source": [
    "import pandas as pd\n",
    "import numpy as np\n",
    "import matplotlib.pyplot as plt\n",
    "import seaborn as sns\n",
    "import os\n",
    "\n",
    "from sklearn.preprocessing import StandardScaler, MinMaxScaler\n",
    "from sklearn.linear_model import LinearRegression\n",
    "from sklearn.model_selection import GridSearchCV\n",
    "from sklearn.pipeline import make_pipeline\n",
    "from Common_Functions.processing_functions import data_split"
   ]
  },
  {
   "cell_type": "code",
   "execution_count": 2,
   "id": "508f43cf",
   "metadata": {},
   "outputs": [
    {
     "name": "stdout",
     "output_type": "stream",
     "text": [
      "/Users/shrutikaushal/Documents/GitHub/Prediction-of-commercial-insurance-payments-for-surgical-procedure-using-DataRobot/\n"
     ]
    }
   ],
   "source": [
    "path = os.getcwd()+'/'\n",
    "print(path)"
   ]
  },
  {
   "cell_type": "markdown",
   "id": "58e9e94e",
   "metadata": {},
   "source": [
    "# Preparing Data"
   ]
  },
  {
   "cell_type": "code",
   "execution_count": 11,
   "id": "5cf92cd0",
   "metadata": {},
   "outputs": [],
   "source": [
    "data = pd.read_csv(path+'Data_Files/JnJ_Files/priv_mcare_f_pay_2022Oct18.csv')\n",
    "data['group'] = list(map(lambda s: s.replace('\\xa0',''), data.group))\n",
    "\n",
    "cluster_df = pd.read_csv(path+'Kmeans_clusters/clusters_only_using_NormCost.csv')"
   ]
  },
  {
   "cell_type": "code",
   "execution_count": 12,
   "id": "8d479ea0",
   "metadata": {},
   "outputs": [],
   "source": [
    "data_cluster = pd.merge(data, cluster_df, on = 'group')\n",
    "data_cluster.drop(columns = ['group'], inplace = True)"
   ]
  },
  {
   "cell_type": "code",
   "execution_count": 13,
   "id": "1c2abd8e",
   "metadata": {},
   "outputs": [],
   "source": [
    "# splitting data for modeling and future use\n",
    "data_cluster, future_data = data_split(count_col_name = 'priv_count', data = data_cluster, count_thresh = 34)"
   ]
  },
  {
   "cell_type": "code",
   "execution_count": 17,
   "id": "cfc44911",
   "metadata": {},
   "outputs": [],
   "source": [
    "# creating a list of data frames for each cluster\n",
    "data_list = [data_cluster[data_cluster.cluster == i].drop(columns = 'cluster') for i in range(3)]"
   ]
  },
  {
   "cell_type": "markdown",
   "id": "25f82fbb",
   "metadata": {},
   "source": [
    "# Modeling"
   ]
  },
  {
   "cell_type": "code",
   "execution_count": null,
   "id": "6111b751",
   "metadata": {},
   "outputs": [],
   "source": []
  }
 ],
 "metadata": {
  "kernelspec": {
   "display_name": "Python 3",
   "language": "python",
   "name": "python3"
  },
  "language_info": {
   "codemirror_mode": {
    "name": "ipython",
    "version": 3
   },
   "file_extension": ".py",
   "mimetype": "text/x-python",
   "name": "python",
   "nbconvert_exporter": "python",
   "pygments_lexer": "ipython3",
   "version": "3.8.8"
  },
  "toc": {
   "base_numbering": 1,
   "nav_menu": {},
   "number_sections": true,
   "sideBar": true,
   "skip_h1_title": false,
   "title_cell": "Table of Contents",
   "title_sidebar": "Contents",
   "toc_cell": false,
   "toc_position": {},
   "toc_section_display": true,
   "toc_window_display": true
  }
 },
 "nbformat": 4,
 "nbformat_minor": 5
}
